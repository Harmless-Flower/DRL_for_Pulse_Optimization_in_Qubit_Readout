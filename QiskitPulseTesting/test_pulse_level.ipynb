{
 "cells": [
  {
   "cell_type": "code",
   "execution_count": 19,
   "id": "0b54d84a-3e7c-48a4-8c2a-78e6e8467828",
   "metadata": {},
   "outputs": [],
   "source": [
    "import warnings\n",
    "warnings.filterwarnings('ignore')\n",
    "from qiskit.tools.jupyter import *"
   ]
  },
  {
   "cell_type": "code",
   "execution_count": 20,
   "id": "5b6d2d45-e2b1-4457-a6bf-eeaf29df926d",
   "metadata": {},
   "outputs": [
    {
     "name": "stderr",
     "output_type": "stream",
     "text": [
      "ibmqfactory.load_account:WARNING:2022-10-15 13:49:03,369: Credentials are already in use. The existing account in the session will be replaced.\n"
     ]
    },
    {
     "data": {
      "text/plain": [
       "[<AccountProvider for IBMQ(hub='ibm-q', group='open', project='main')>,\n",
       " <AccountProvider for IBMQ(hub='ibm-q-nus', group='default', project='default')>]"
      ]
     },
     "execution_count": 20,
     "metadata": {},
     "output_type": "execute_result"
    }
   ],
   "source": [
    "from qiskit import IBMQ\n",
    "IBMQ.load_account()\n",
    "IBMQ.providers()"
   ]
  },
  {
   "cell_type": "code",
   "execution_count": 21,
   "id": "496fdd7e-3403-483d-ae91-ab8d3388145b",
   "metadata": {},
   "outputs": [
    {
     "name": "stdout",
     "output_type": "stream",
     "text": [
      "[<IBMQSimulator('ibmq_qasm_simulator') from IBMQ(hub='ibm-q-nus', group='default', project='default')>, <IBMQBackend('ibmq_montreal') from IBMQ(hub='ibm-q-nus', group='default', project='default')>, <IBMQBackend('ibmq_toronto') from IBMQ(hub='ibm-q-nus', group='default', project='default')>, <IBMQBackend('ibmq_kolkata') from IBMQ(hub='ibm-q-nus', group='default', project='default')>, <IBMQBackend('ibmq_mumbai') from IBMQ(hub='ibm-q-nus', group='default', project='default')>, <IBMQBackend('ibmq_lima') from IBMQ(hub='ibm-q-nus', group='default', project='default')>, <IBMQBackend('ibmq_belem') from IBMQ(hub='ibm-q-nus', group='default', project='default')>, <IBMQBackend('ibmq_quito') from IBMQ(hub='ibm-q-nus', group='default', project='default')>, <IBMQBackend('ibmq_guadalupe') from IBMQ(hub='ibm-q-nus', group='default', project='default')>, <IBMQSimulator('simulator_statevector') from IBMQ(hub='ibm-q-nus', group='default', project='default')>, <IBMQSimulator('simulator_mps') from IBMQ(hub='ibm-q-nus', group='default', project='default')>, <IBMQSimulator('simulator_extended_stabilizer') from IBMQ(hub='ibm-q-nus', group='default', project='default')>, <IBMQSimulator('simulator_stabilizer') from IBMQ(hub='ibm-q-nus', group='default', project='default')>, <IBMQBackend('ibmq_jakarta') from IBMQ(hub='ibm-q-nus', group='default', project='default')>, <IBMQBackend('ibmq_manila') from IBMQ(hub='ibm-q-nus', group='default', project='default')>, <IBMQBackend('ibm_hanoi') from IBMQ(hub='ibm-q-nus', group='default', project='default')>, <IBMQBackend('ibm_lagos') from IBMQ(hub='ibm-q-nus', group='default', project='default')>, <IBMQBackend('ibm_nairobi') from IBMQ(hub='ibm-q-nus', group='default', project='default')>, <IBMQBackend('ibm_cairo') from IBMQ(hub='ibm-q-nus', group='default', project='default')>, <IBMQBackend('ibm_auckland') from IBMQ(hub='ibm-q-nus', group='default', project='default')>, <IBMQBackend('ibm_perth') from IBMQ(hub='ibm-q-nus', group='default', project='default')>, <IBMQBackend('ibm_washington') from IBMQ(hub='ibm-q-nus', group='default', project='default')>, <IBMQBackend('ibm_oslo') from IBMQ(hub='ibm-q-nus', group='default', project='default')>, <IBMQBackend('ibm_geneva') from IBMQ(hub='ibm-q-nus', group='default', project='default')>]\n"
     ]
    }
   ],
   "source": [
    "provider = IBMQ.get_provider(hub='ibm-q-nus', group='default', project='default')\n",
    "print(provider.backends())"
   ]
  },
  {
   "cell_type": "code",
   "execution_count": 22,
   "id": "b735970f-d9e5-4c15-b5c3-22f292fbcb74",
   "metadata": {},
   "outputs": [],
   "source": [
    "backend = provider.get_backend('ibm_perth')"
   ]
  },
  {
   "cell_type": "code",
   "execution_count": 23,
   "id": "b74a3be6-5b1a-4858-9117-70163262a895",
   "metadata": {},
   "outputs": [],
   "source": [
    "backend_config = backend.configuration()\n",
    "assert backend_config.open_pulse, \"Backend doesn't support Pulse\""
   ]
  },
  {
   "cell_type": "code",
   "execution_count": 24,
   "id": "7c997dd4-79c7-4ee7-b69b-b2509613c899",
   "metadata": {},
   "outputs": [
    {
     "name": "stdout",
     "output_type": "stream",
     "text": [
      "Sampling time: 0.2222222222222222 ns\n"
     ]
    }
   ],
   "source": [
    "dt = backend_config.dt # Example way of getting data on the backend\n",
    "print(f\"Sampling time: {dt*1e9} ns\")    # The configuration returns dt in seconds, so multiply by\n",
    "                                        # 1e9 to get nanoseconds"
   ]
  },
  {
   "cell_type": "code",
   "execution_count": 25,
   "id": "5d5dfb61-f1ac-4f54-a8a3-b1ddf18ffec5",
   "metadata": {},
   "outputs": [],
   "source": [
    "backend_defaults = backend.defaults() \n",
    "# backend.defaults() provides a starting point for using the backend, contains estimates for qubit frequencies and default programs to run basic operators"
   ]
  },
  {
   "cell_type": "markdown",
   "id": "97d07649-6ac9-4f92-ba1c-9320da3b2f41",
   "metadata": {},
   "source": [
    "Frequency Sweep for Qubit Frequency"
   ]
  },
  {
   "cell_type": "code",
   "execution_count": 26,
   "id": "d698caed-cc40-45df-ac00-6270a70dc73d",
   "metadata": {},
   "outputs": [
    {
     "name": "stdout",
     "output_type": "stream",
     "text": [
      "Qubit 0 has an estimated frequency of 5.1575468414530725 GHz.\n",
      "The sweep will go from 5.137546841453073 GHz to 5.177546841453073 GHz in steps of 1.0 MHz.\n"
     ]
    }
   ],
   "source": [
    "import numpy as np\n",
    "\n",
    "# unit conversion factors cuz all backend results are returned in SI\n",
    "GHz = 1.0e9\n",
    "MHz = 1.0e6\n",
    "us = 1.0e-6\n",
    "ns = 1.0e-9\n",
    "\n",
    "qubit = 0 # This will be the qubit number we use, this can vary from 0 to n - 1 correlating to the n qubits available in the backend\n",
    "\n",
    "mem_slot = 0 # We define a memory slot channel, for all measured results from this qubit to go to\n",
    "\n",
    "# The sweep will be centered around the estimated qubit frequency.\n",
    "center_frequency_Hz = backend_defaults.qubit_freq_est[qubit]        # The default frequency is given in Hz as of now, might change in a future release\n",
    "\n",
    "print(f\"Qubit {qubit} has an estimated frequency of {center_frequency_Hz / GHz} GHz.\")\n",
    "\n",
    "# scale factor to remove factors of 10 from the data\n",
    "scale_factor = 1e-7\n",
    "\n",
    "# We will sweep 40 MHz around the estimated frequency, this can be varied\n",
    "frequency_span_Hz = 40 * MHz\n",
    "# in steps of 1 MHz, which can also be varied\n",
    "frequency_step_Hz = 1 * MHz\n",
    "\n",
    "# We will sweep 20 MHz above and 20 MHz below the estimated frequency\n",
    "frequency_min = center_frequency_Hz - frequency_span_Hz / 2\n",
    "frequency_max = center_frequency_Hz + frequency_span_Hz / 2\n",
    "# Construct an array of the frequencies for our experiment\n",
    "frequencies_GHz = np.arange(frequency_min / GHz, \n",
    "                            frequency_max / GHz, \n",
    "                            frequency_step_Hz / GHz)\n",
    "\n",
    "print(f\"The sweep will go from {frequency_min / GHz} GHz to {frequency_max / GHz} GHz \\\n",
    "in steps of {frequency_step_Hz / MHz} MHz.\")"
   ]
  },
  {
   "cell_type": "code",
   "execution_count": 27,
   "id": "aebe1e39-2687-4e8f-acf8-0940c309d79e",
   "metadata": {},
   "outputs": [],
   "source": [
    "# samples in the backends need to be multiples of 16\n",
    "def get_closest_multiple_of_16(num):\n",
    "    return int(num + 8) - (int(num + 8) % 16)"
   ]
  },
  {
   "cell_type": "code",
   "execution_count": 28,
   "id": "5ca16174-abf6-423a-b530-3f266b9fa606",
   "metadata": {},
   "outputs": [],
   "source": [
    "# Convert seconds to dt\n",
    "def get_dt_from(sec):\n",
    "    return get_closest_multiple_of_16(sec/dt)"
   ]
  },
  {
   "cell_type": "code",
   "execution_count": 29,
   "id": "28a0869a-05bc-4ee1-be3b-52f5d745c506",
   "metadata": {},
   "outputs": [],
   "source": [
    "from qiskit import pulse                  # Roll Credits!\n",
    "from qiskit.circuit import Parameter      # This is the Parameter Class for variable parameters for the qubits\n",
    "\n",
    "# To run an experiment, we need to first build a pulse schedule by defining the frequency as a parameter using the parameter class\n",
    "# So we will also need to set the required values, like duration, sigma and channel\n",
    "# Then we can set the pulse flow so that they are executed sequentially\n",
    "# We will need to define the pulse frequency, the pulse used in the experiment, and the measurement pulse\n",
    "# For the simple case, we can use a Gaussian drive pulse\n",
    "\n",
    "# Drive pulse params\n",
    "drive_sigma_sec = 0.015 * us                            # This determines the actual width of the gaussian\n",
    "drive_duration_sec = drive_sigma_sec * 8                # A truncating parameter for the pulse\n",
    "drive_amp = 0.05\n",
    "\n",
    "\n",
    "# Create the base schedule\n",
    "# Start with drive pulse acting on the drive channel\n",
    "freq = Parameter('freq')\n",
    "with pulse.build(backend=backend, default_alignment='sequential', name='Frequency sweep') as sweep_sched:\n",
    "    # seconds_to_samples returns the number of samples that correlate to the seconds desired\n",
    "    drive_duration = get_closest_multiple_of_16(pulse.seconds_to_samples(drive_duration_sec))\n",
    "    drive_sigma = pulse.seconds_to_samples(drive_sigma_sec)\n",
    "    drive_chan = pulse.drive_channel(qubit)\n",
    "    pulse.set_frequency(freq, drive_chan)\n",
    "    # The Drive Pulse\n",
    "    pulse.play(pulse.Gaussian(duration=drive_duration,\n",
    "                              sigma=drive_sigma,\n",
    "                              amp=drive_amp,\n",
    "                              name='freq_sweep_excitation_pulse'), drive_chan)\n",
    "    # The Measurement Pulse\n",
    "    pulse.measure(qubits=[qubit], registers=[pulse.MemorySlot(mem_slot)])\n",
    "        \n",
    "\n",
    "# Create the frequency settings for the sweep (MUST BE IN HZ)\n",
    "frequencies_Hz = frequencies_GHz*GHz\n",
    "schedules = [sweep_sched.assign_parameters({freq: f}, inplace=False) for f in frequencies_Hz]"
   ]
  },
  {
   "cell_type": "code",
   "execution_count": 30,
   "id": "8cd55ee4-619c-4021-8728-1388741d09cb",
   "metadata": {},
   "outputs": [
    {
     "data": {
      "image/png": "[encoded data removed]",
      "text/plain": [
       "<Figure size 936x251.086 with 1 Axes>"
      ]
     },
     "execution_count": 30,
     "metadata": {},
     "output_type": "execute_result"
    }
   ],
   "source": [
    "schedules[0].draw(backend=backend) # Draws the pulse sequence we will run"
   ]
  },
  {
   "cell_type": "code",
   "execution_count": 31,
   "id": "9f58ceec-e4d2-4064-a2c0-93d7e3f0d6b4",
   "metadata": {},
   "outputs": [
    {
     "name": "stdout",
     "output_type": "stream",
     "text": [
      "Job Status: job has successfully run\n"
     ]
    }
   ],
   "source": [
    "num_shots_per_frequency = 1024 # Number of Shots\n",
    "\n",
    "job = backend.run(schedules, \n",
    "                  meas_level=1, \n",
    "                  # If we specify meas_level = 0, we get an array of raw data (an array of complex values per shot)\n",
    "                  # If we specify meas_level = 1, we get kerneled data, so one complex value per shot\n",
    "                  # If we specify meas_level = 2, we get classified data (0 or 1)\n",
    "                  # meas_level = 1 can be used if we want to calibrate the discriminator ourself\n",
    "                  meas_return='avg', # gives us the avg. of the shots\n",
    "                  shots=num_shots_per_frequency)\n",
    "\n",
    "from qiskit.tools.monitor import job_monitor\n",
    "job_monitor(job)"
   ]
  },
  {
   "cell_type": "code",
   "execution_count": 34,
   "id": "5b4df5f8-1533-4e15-a4ca-4f076fde62cf",
   "metadata": {},
   "outputs": [],
   "source": [
    "# Use job.result() to get the results, note that this can't be called more than once for the same job since the information is already \"read\" once\n",
    "frequency_sweep_results = job.result(timeout=0) # timeout specifies how long to wait after job before collecting results, 30 to 120 seconds is a good estimate but 0 also works"
   ]
  },
  {
   "cell_type": "code",
   "execution_count": 35,
   "id": "a336409b-6e5d-40b6-8419-445199a032be",
   "metadata": {},
   "outputs": [
    {
     "data": {
      "image/png": "[encoded data removed]",
      "text/plain": [
       "<Figure size 432x288 with 1 Axes>"
      ]
     },
     "metadata": {
      "needs_background": "light"
     },
     "output_type": "display_data"
    }
   ],
   "source": [
    "import matplotlib.pyplot as plt\n",
    "\n",
    "sweep_values = []\n",
    "for i in range(len(frequency_sweep_results.results)):\n",
    "    # Get the results from the ith experiment\n",
    "    res = frequency_sweep_results.get_memory(i)*scale_factor\n",
    "    # Get the results for `qubit` from this experiment\n",
    "    sweep_values.append(res[qubit])\n",
    "\n",
    "plt.scatter(frequencies_GHz, np.real(sweep_values), color='black') # plot real part of sweep values\n",
    "plt.xlim([min(frequencies_GHz), max(frequencies_GHz)])\n",
    "plt.xlabel(\"Frequency [GHz]\")\n",
    "plt.ylabel(\"Measured signal [a.u.]\")\n",
    "plt.show()"
   ]
  },
  {
   "cell_type": "code",
   "execution_count": 32,
   "id": "2b34f7cd-0a82-4b17-9070-b7cda6059c42",
   "metadata": {},
   "outputs": [],
   "source": [
    "# As should be seen from the plotted results, the peak corresponds with the drive freq, and there should also be power broadening\n",
    "# To get the exact value of the peak frequency, we can fit the values to a resonance response shape, so a Lorentzian"
   ]
  },
  {
   "cell_type": "code",
   "execution_count": 36,
   "id": "82bfd4bd-eddd-4b18-b0ec-9449461c8207",
   "metadata": {},
   "outputs": [],
   "source": [
    "from scipy.optimize import curve_fit\n",
    "\n",
    "def fit_function(x_values, y_values, function, init_params):\n",
    "    fitparams, conv = curve_fit(function, x_values, y_values, init_params)\n",
    "    y_fit = function(x_values, *fitparams)\n",
    "    \n",
    "    return fitparams, y_fit"
   ]
  },
  {
   "cell_type": "code",
   "execution_count": 37,
   "id": "a41a2455-cbd3-42d3-9b4e-24474f943d2b",
   "metadata": {},
   "outputs": [],
   "source": [
    "fit_params, y_fit = fit_function(frequencies_GHz,\n",
    "                                 np.real(sweep_values), \n",
    "                                 lambda x, A, q_freq, B, C: (A / np.pi) * (B / ((x - q_freq)**2 + B**2)) + C,\n",
    "                                 [1, 4.975, 1, -2] # initial params for curve_fit\n",
    "                                )"
   ]
  },
  {
   "cell_type": "code",
   "execution_count": 38,
   "id": "0b054f4a-8caa-4270-89fa-8c0b833ec6c4",
   "metadata": {},
   "outputs": [
    {
     "data": {
      "image/png": "[encoded data removed]",
      "text/plain": [
       "<Figure size 432x288 with 1 Axes>"
      ]
     },
     "metadata": {
      "needs_background": "light"
     },
     "output_type": "display_data"
    }
   ],
   "source": [
    "plt.scatter(frequencies_GHz, np.real(sweep_values), color='black')\n",
    "plt.plot(frequencies_GHz, y_fit, color='red')\n",
    "plt.xlim([min(frequencies_GHz), max(frequencies_GHz)])\n",
    "\n",
    "plt.xlabel(\"Frequency [GHz]\")\n",
    "plt.ylabel(\"Measured Signal [a.u.]\")\n",
    "plt.show()"
   ]
  },
  {
   "cell_type": "code",
   "execution_count": 39,
   "id": "29f296f1-b8d2-4d7e-8800-6b275e8e0b60",
   "metadata": {},
   "outputs": [
    {
     "name": "stdout",
     "output_type": "stream",
     "text": [
      "We've updated our qubit frequency estimate from 5.15755 GHz to 5.15751 GHz.\n"
     ]
    }
   ],
   "source": [
    "A, rough_qubit_frequency, B, C = fit_params\n",
    "rough_qubit_frequency = rough_qubit_frequency*GHz # make sure qubit freq is in Hz\n",
    "print(f\"We've updated our qubit frequency estimate from \"\n",
    "      f\"{round(backend_defaults.qubit_freq_est[qubit] / GHz, 5)} GHz to {round(rough_qubit_frequency/GHz, 5)} GHz.\")"
   ]
  },
  {
   "cell_type": "markdown",
   "id": "5ea5db0f-906c-4d13-9eab-172385ad9ebb",
   "metadata": {},
   "source": [
    "Calibrating π Pulse using a Rabi Experiment"
   ]
  },
  {
   "cell_type": "code",
   "execution_count": 40,
   "id": "5952aa34-56f7-4699-83e4-aad8b6aaaf54",
   "metadata": {},
   "outputs": [],
   "source": [
    "# Now we do an amplitude sweep to find the amplitude for a π Pulse\n",
    "\n",
    "# Rabi experiment parameters\n",
    "num_rabi_points = 50\n",
    "\n",
    "# Drive amplitude values to iterate over: 50 amplitudes evenly spaced from 0 to 0.75\n",
    "drive_amp_min = 0\n",
    "drive_amp_max = 0.75\n",
    "drive_amps = np.linspace(drive_amp_min, drive_amp_max, num_rabi_points)"
   ]
  },
  {
   "cell_type": "code",
   "execution_count": 41,
   "id": "a3dd9579-3f15-4974-85f0-81ec4e3b0236",
   "metadata": {},
   "outputs": [],
   "source": [
    "drive_amp = Parameter('drive_amp')\n",
    "with pulse.build(backend=backend, default_alignment='sequential', name='Rabi Experiment') as rabi_sched:\n",
    "    drive_duration = get_closest_multiple_of_16(pulse.seconds_to_samples(drive_duration_sec))\n",
    "    drive_sigma = pulse.seconds_to_samples(drive_sigma_sec)\n",
    "    drive_chan = pulse.drive_channel(qubit)\n",
    "    pulse.set_frequency(rough_qubit_frequency, drive_chan)\n",
    "    pulse.play(pulse.Gaussian(duration=drive_duration,\n",
    "                              amp=drive_amp,\n",
    "                              sigma=drive_sigma,\n",
    "                              name='Rabi Pulse'), drive_chan)\n",
    "    pulse.measure(qubits=[qubit], registers=[pulse.MemorySlot(mem_slot)])\n",
    "\n",
    "rabi_schedules = [rabi_sched.assign_parameters({drive_amp: a}, inplace=False) for a in drive_amps]"
   ]
  },
  {
   "cell_type": "code",
   "execution_count": 42,
   "id": "87d201be-e116-4de2-901f-caa6cc014d1e",
   "metadata": {},
   "outputs": [
    {
     "data": {
      "image/png": "[encoded data removed]",
      "text/plain": [
       "<Figure size 936x251.086 with 1 Axes>"
      ]
     },
     "execution_count": 42,
     "metadata": {},
     "output_type": "execute_result"
    }
   ],
   "source": [
    "rabi_schedules[-1].draw(backend=backend)"
   ]
  },
  {
   "cell_type": "code",
   "execution_count": 43,
   "id": "7f4a9ccd-5b2f-4b78-965c-cdf57a4be789",
   "metadata": {},
   "outputs": [
    {
     "name": "stdout",
     "output_type": "stream",
     "text": [
      "Job Status: job has successfully run\n"
     ]
    }
   ],
   "source": [
    "num_shots_per_point = 1024\n",
    "\n",
    "job = backend.run(rabi_schedules, \n",
    "                  meas_level=1, \n",
    "                  meas_return='avg', \n",
    "                  shots=num_shots_per_point)\n",
    "\n",
    "job_monitor(job)"
   ]
  },
  {
   "cell_type": "code",
   "execution_count": 44,
   "id": "608a2a71-b0ff-441d-aa00-7a8069262f26",
   "metadata": {},
   "outputs": [],
   "source": [
    "rabi_results = job.result(timeout=0)"
   ]
  },
  {
   "cell_type": "code",
   "execution_count": 48,
   "id": "9f609e42-b352-468d-9bdc-42d52f5fa606",
   "metadata": {},
   "outputs": [],
   "source": [
    "# Now we fit to a sinusoidal curve to determine the amplitude needed for a π Pulse\n",
    "# Specifically, we want the amplitude to go from a max ( all |0> ) to a min ( all |1> ) state\n",
    "# So the period/2 gives us the amplitude for a pi pulse"
   ]
  },
  {
   "cell_type": "code",
   "execution_count": 45,
   "id": "608561ea-acb9-4b17-8ad0-7a39dfdc1a14",
   "metadata": {},
   "outputs": [],
   "source": [
    "# center data around 0\n",
    "def baseline_remove(values):\n",
    "    return np.array(values) - np.mean(values)"
   ]
  },
  {
   "cell_type": "code",
   "execution_count": 46,
   "id": "4d8f4a02-5c4c-453d-b42b-4c7e2893b0bc",
   "metadata": {},
   "outputs": [
    {
     "data": {
      "image/png": "[encoded data removed]",
      "text/plain": [
       "<Figure size 432x288 with 1 Axes>"
      ]
     },
     "metadata": {
      "needs_background": "light"
     },
     "output_type": "display_data"
    }
   ],
   "source": [
    "rabi_values = []\n",
    "for i in range(num_rabi_points):\n",
    "    # Get the results for `qubit` from the ith experiment\n",
    "    rabi_values.append(rabi_results.get_memory(i)[qubit] * scale_factor)\n",
    "\n",
    "rabi_values = np.real(baseline_remove(rabi_values))\n",
    "\n",
    "plt.xlabel(\"Drive amp [a.u.]\")\n",
    "plt.ylabel(\"Measured signal [a.u.]\")\n",
    "plt.scatter(drive_amps, rabi_values, color='black') # plot real part of Rabi values\n",
    "plt.show()"
   ]
  },
  {
   "cell_type": "code",
   "execution_count": 62,
   "id": "fa77ed2f-c6a9-438d-b541-7fc0bfd35763",
   "metadata": {},
   "outputs": [
    {
     "data": {
      "image/png": "[encoded data removed]",
      "text/plain": [
       "<Figure size 432x288 with 1 Axes>"
      ]
     },
     "metadata": {
      "needs_background": "light"
     },
     "output_type": "display_data"
    }
   ],
   "source": [
    "# Very important to note, the curve fitting might not work well unless good estimates are given first\n",
    "# So if it doesn't work first try, to to roughly approximate values that should work, and then scipy does the rest\n",
    "\n",
    "fit_params, y_fit = fit_function(drive_amps,\n",
    "                                 rabi_values, \n",
    "                                 lambda x, A, B, drive_period, phi: (A*np.cos(2*np.pi*x/drive_period - phi) + B),\n",
    "                                 [2.7, 0, 0.15, np.pi])\n",
    "\n",
    "plt.scatter(drive_amps, rabi_values, color='black')\n",
    "plt.plot(drive_amps, y_fit, color='red')\n",
    "\n",
    "drive_period = fit_params[2] # get period of rabi oscillation\n",
    "\n",
    "plt.axvline(drive_period/2, color='red', linestyle='--')\n",
    "plt.axvline(drive_period, color='red', linestyle='--')\n",
    "plt.annotate(\"\", xy=(drive_period, 0), xytext=(drive_period/2,0), arrowprops=dict(arrowstyle=\"<->\", color='red'))\n",
    "plt.annotate(\"$\\pi$\", xy=(drive_period/2-0.03, 0.1), color='red')\n",
    "\n",
    "plt.xlabel(\"Drive amp [a.u.]\", fontsize=15)\n",
    "plt.ylabel(\"Measured signal [a.u.]\", fontsize=15)\n",
    "plt.show()"
   ]
  },
  {
   "cell_type": "code",
   "execution_count": 63,
   "id": "4302ed0b-41f9-4c70-a81f-6006d649fc35",
   "metadata": {},
   "outputs": [
    {
     "name": "stdout",
     "output_type": "stream",
     "text": [
      "Pi Amplitude = 0.07361731917352651\n"
     ]
    }
   ],
   "source": [
    "pi_amp = abs(drive_period / 2)\n",
    "print(f\"Pi Amplitude = {pi_amp}\")"
   ]
  },
  {
   "cell_type": "code",
   "execution_count": 64,
   "id": "48fccc2f-6e6e-4342-9391-5bef68ef66a0",
   "metadata": {},
   "outputs": [],
   "source": [
    "# Now we can define this pi pulse we have found for later\n",
    "\n",
    "with pulse.build(backend) as pi_pulse:\n",
    "    drive_duration = get_closest_multiple_of_16(pulse.seconds_to_samples(drive_duration_sec))\n",
    "    drive_sigma = pulse.seconds_to_samples(drive_sigma_sec)\n",
    "    drive_chan = pulse.drive_channel(qubit)\n",
    "    pulse.play(pulse.Gaussian(duration=drive_duration,\n",
    "                              amp=pi_amp,\n",
    "                              sigma=drive_sigma,\n",
    "                              name='pi_pulse'), drive_chan)"
   ]
  },
  {
   "cell_type": "code",
   "execution_count": 65,
   "id": "b23354ec-b06f-4697-8ad1-d11ff8b9f2fb",
   "metadata": {},
   "outputs": [],
   "source": [
    "# With a roughly good pi pulse, we can start preparing 0 states and 1 states with good accuracy to collect measurements to make our own discriminator\n",
    "\n",
    "# Ground state schedule\n",
    "with pulse.build(backend=backend, default_alignment='sequential', name='ground state') as gnd_schedule:\n",
    "    drive_chan = pulse.drive_channel(qubit)\n",
    "    pulse.set_frequency(rough_qubit_frequency, drive_chan)\n",
    "    pulse.measure(qubits=[qubit], registers=[pulse.MemorySlot(mem_slot)])\n",
    "\n",
    "\n",
    "# Excited state schedule\n",
    "with pulse.build(backend=backend, default_alignment='sequential', name='excited state') as exc_schedule:\n",
    "    drive_chan = pulse.drive_channel(qubit)\n",
    "    pulse.set_frequency(rough_qubit_frequency, drive_chan)\n",
    "    pulse.call(pi_pulse)\n",
    "    pulse.measure(qubits=[qubit], registers=[pulse.MemorySlot(mem_slot)])\n"
   ]
  },
  {
   "cell_type": "code",
   "execution_count": 66,
   "id": "a0e4b4b4-3b9d-4bc5-86b0-1ef1075b3bc9",
   "metadata": {},
   "outputs": [
    {
     "data": {
      "image/png": "[encoded data removed]",
      "text/plain": [
       "<Figure size 936x132.286 with 1 Axes>"
      ]
     },
     "execution_count": 66,
     "metadata": {},
     "output_type": "execute_result"
    }
   ],
   "source": [
    "gnd_schedule.draw(backend=backend)"
   ]
  },
  {
   "cell_type": "code",
   "execution_count": 67,
   "id": "3c08d801-646a-4bd2-8eef-a88aff417c80",
   "metadata": {},
   "outputs": [
    {
     "data": {
      "image/png": "[encoded data removed]",
      "text/plain": [
       "<Figure size 936x251.086 with 1 Axes>"
      ]
     },
     "execution_count": 67,
     "metadata": {},
     "output_type": "execute_result"
    }
   ],
   "source": [
    "exc_schedule.draw(backend=backend)"
   ]
  },
  {
   "cell_type": "code",
   "execution_count": 68,
   "id": "a47c8c36-b92d-4808-9897-cb11433f40f3",
   "metadata": {},
   "outputs": [
    {
     "name": "stdout",
     "output_type": "stream",
     "text": [
      "Job Status: job has successfully run\n"
     ]
    }
   ],
   "source": [
    "# Now we can run the ground schedule and the excited schedule\n",
    "# Note that when we get kernedled results with meas_level = 1, its kinda like taking a dot product of the complex array of raw results, so still raw but manageable\n",
    "\n",
    "num_shots = 1024\n",
    "\n",
    "job = backend.run([gnd_schedule, exc_schedule], \n",
    "                  meas_level=1, \n",
    "                  meas_return='single', \n",
    "                  shots=num_shots)\n",
    "\n",
    "job_monitor(job)"
   ]
  },
  {
   "cell_type": "code",
   "execution_count": 69,
   "id": "cc227370-e3c5-4cc8-b985-a49a877a9f02",
   "metadata": {},
   "outputs": [],
   "source": [
    "gnd_exc_results = job.result(timeout=0)"
   ]
  },
  {
   "cell_type": "code",
   "execution_count": 70,
   "id": "42659d34-0658-44a9-868c-e9dffc899aa2",
   "metadata": {},
   "outputs": [
    {
     "data": {
      "image/png": "[encoded data removed]",
      "text/plain": [
       "<Figure size 432x288 with 1 Axes>"
      ]
     },
     "metadata": {
      "needs_background": "light"
     },
     "output_type": "display_data"
    }
   ],
   "source": [
    "# Now we can plot the results to see what we roughly get\n",
    "\n",
    "gnd_results = gnd_exc_results.get_memory(0)[:, qubit]*scale_factor\n",
    "exc_results = gnd_exc_results.get_memory(1)[:, qubit]*scale_factor\n",
    "\n",
    "plt.figure()\n",
    "\n",
    "# All results from the gnd_schedule are plotted in blue\n",
    "plt.scatter(np.real(gnd_results), np.imag(gnd_results), \n",
    "                s=5, cmap='viridis', c='blue', alpha=0.5, label='state_0')\n",
    "# All results from the exc_schedule are plotted in red\n",
    "plt.scatter(np.real(exc_results), np.imag(exc_results), \n",
    "                s=5, cmap='viridis', c='red', alpha=0.5, label='state_1')\n",
    "\n",
    "plt.axis('square')\n",
    "\n",
    "# Plot a large dot for the average result of the 0 and 1 states.\n",
    "mean_gnd = np.mean(gnd_results) # takes mean of both real and imaginary parts\n",
    "mean_exc = np.mean(exc_results)\n",
    "plt.scatter(np.real(mean_gnd), np.imag(mean_gnd), \n",
    "            s=200, cmap='viridis', c='black',alpha=1.0, label='state_0_mean')\n",
    "plt.scatter(np.real(mean_exc), np.imag(mean_exc), \n",
    "            s=200, cmap='viridis', c='black',alpha=1.0, label='state_1_mean')\n",
    "\n",
    "plt.ylabel('I [a.u.]', fontsize=15)\n",
    "plt.xlabel('Q [a.u.]', fontsize=15)\n",
    "plt.title(\"0-1 discrimination\", fontsize=15)\n",
    "\n",
    "plt.show()"
   ]
  },
  {
   "cell_type": "code",
   "execution_count": 71,
   "id": "18968479-9ffa-47db-be4c-bb9bb2e7c704",
   "metadata": {},
   "outputs": [],
   "source": [
    "# Then we can set up a very simple classifier by just checking which mean cluster is a given point closer to\n",
    "\n",
    "import math\n",
    "\n",
    "def classify(point: complex):\n",
    "    # Classify the given state as |0> or |1>\n",
    "    def distance(a, b):\n",
    "        return math.sqrt((np.real(a) - np.real(b))**2 + (np.imag(a) - np.imag(b))**2)\n",
    "    return int(distance(point, mean_exc) < distance(point, mean_gnd))"
   ]
  },
  {
   "cell_type": "markdown",
   "id": "e5672cce-81c2-489b-b58c-73c5ee8fb748",
   "metadata": {},
   "source": [
    "Measuring T1 using Inversion Recovery"
   ]
  },
  {
   "cell_type": "code",
   "execution_count": 72,
   "id": "b4753464-9249-491c-877e-c34d92b78e3b",
   "metadata": {},
   "outputs": [],
   "source": [
    "# We can measure T1 by playing a pi pulse, and then varying the time we delay between the pulse and the measurement\n",
    "# Plotting the results should give us an exponential decay which will give us T1"
   ]
  },
  {
   "cell_type": "code",
   "execution_count": 73,
   "id": "95482387-3e48-491d-8aee-c4bb8e8318ec",
   "metadata": {},
   "outputs": [],
   "source": [
    "# T1 experiment parames\n",
    "time_max_sec = 450 * us\n",
    "time_step_sec = 6.5 * us\n",
    "delay_times_sec = np.arange(1 * us, time_max_sec, time_step_sec)"
   ]
  },
  {
   "cell_type": "code",
   "execution_count": 74,
   "id": "891c5062-c39c-4dd6-a741-2ea8edc9fc86",
   "metadata": {},
   "outputs": [],
   "source": [
    "# Create schedules for the experiment \n",
    "delay = Parameter('delay')\n",
    "with pulse.build(backend=backend, default_alignment='sequential', name=\"T1 delay Experiment\") as t1_schedule:\n",
    "    drive_chan = pulse.drive_channel(qubit)\n",
    "    pulse.set_frequency(rough_qubit_frequency, drive_chan)\n",
    "    pulse.call(pi_pulse)\n",
    "    pulse.delay(delay, drive_chan)\n",
    "    pulse.measure(qubits=[qubit], registers=[pulse.MemorySlot(mem_slot)])\n",
    "\n",
    "t1_schedules = [t1_schedule.assign_parameters({delay: get_dt_from(d)}, inplace=False) for d in delay_times_sec]"
   ]
  },
  {
   "cell_type": "code",
   "execution_count": 79,
   "id": "41a66b00-5276-4f6b-be6d-1755a6b5d4a1",
   "metadata": {},
   "outputs": [
    {
     "data": {
      "image/png": "[encoded data removed]",
      "text/plain": [
       "<Figure size 936x251.086 with 1 Axes>"
      ]
     },
     "execution_count": 79,
     "metadata": {},
     "output_type": "execute_result"
    }
   ],
   "source": [
    "sched_idx = 0 # You can vary this var to see whether the delay is being varied\n",
    "t1_schedules[sched_idx].draw(backend=backend)"
   ]
  },
  {
   "cell_type": "code",
   "execution_count": 80,
   "id": "d035a661-c303-4eff-8982-e122cce09a09",
   "metadata": {},
   "outputs": [
    {
     "name": "stdout",
     "output_type": "stream",
     "text": [
      "Job Status: job has successfully run\n"
     ]
    }
   ],
   "source": [
    "num_shots = 256\n",
    "\n",
    "job = backend.run(t1_schedules, \n",
    "                  meas_level=1, \n",
    "                  meas_return='single', \n",
    "                  shots=num_shots)\n",
    "\n",
    "job_monitor(job)"
   ]
  },
  {
   "cell_type": "code",
   "execution_count": 81,
   "id": "08252932-415f-4ac3-85df-e11c22381b6d",
   "metadata": {},
   "outputs": [],
   "source": [
    "t1_results = job.result(timeout=0)"
   ]
  },
  {
   "cell_type": "code",
   "execution_count": 82,
   "id": "caa5a84b-c5cb-4cd2-8dff-204756477bce",
   "metadata": {},
   "outputs": [
    {
     "data": {
      "image/png": "[encoded data removed]",
      "text/plain": [
       "<Figure size 432x288 with 1 Axes>"
      ]
     },
     "metadata": {
      "needs_background": "light"
     },
     "output_type": "display_data"
    }
   ],
   "source": [
    "t1_values = []\n",
    "\n",
    "for i in range(len(delay_times_sec)):\n",
    "    iq_data = t1_results.get_memory(i)[:,qubit] * scale_factor\n",
    "    t1_values.append(sum(map(classify, iq_data)) / num_shots)\n",
    "\n",
    "plt.scatter(delay_times_sec/us, t1_values, color='black') \n",
    "plt.title(\"$T_1$ Experiment\", fontsize=15)\n",
    "plt.xlabel('Delay before measurement [$\\mu$s]', fontsize=15)\n",
    "plt.ylabel('Signal [a.u.]', fontsize=15)\n",
    "plt.show()"
   ]
  },
  {
   "cell_type": "code",
   "execution_count": 83,
   "id": "aaf3dd3d-f1d9-4884-9919-ad210df94ed9",
   "metadata": {},
   "outputs": [
    {
     "data": {
      "image/png": "[encoded data removed]",
      "text/plain": [
       "<Figure size 432x288 with 1 Axes>"
      ]
     },
     "metadata": {
      "needs_background": "light"
     },
     "output_type": "display_data"
    }
   ],
   "source": [
    "# And now we can fit the data to an exponential to give us T1\n",
    "\n",
    "fit_params, y_fit = fit_function(delay_times_sec/us, t1_values, \n",
    "            lambda x, A, C, T1: (A * np.exp(-x / T1) + C),\n",
    "            [-3, 3, 100]\n",
    "            )\n",
    "\n",
    "_, _, T1 = fit_params\n",
    "\n",
    "plt.scatter(delay_times_sec/us, t1_values, color='black')\n",
    "plt.plot(delay_times_sec/us, y_fit, color='red', label=f\"T1 = {T1:.2f} us\")\n",
    "plt.xlim(0, np.max(delay_times_sec/us))\n",
    "plt.title(\"$T_1$ Experiment\", fontsize=15)\n",
    "plt.xlabel('Delay before measurement [$\\mu$s]', fontsize=15)\n",
    "plt.ylabel('Signal [a.u.]', fontsize=15)\n",
    "plt.legend()\n",
    "plt.show()"
   ]
  },
  {
   "cell_type": "markdown",
   "id": "3bd9feb9-e747-4b2c-b252-964d081406bc",
   "metadata": {},
   "source": [
    "Measuring the Qubit Frequency Precisely using a Ramsey Experiment"
   ]
  },
  {
   "cell_type": "code",
   "execution_count": 77,
   "id": "1c5ccdda-3dee-4b66-9841-fbd2061fa925",
   "metadata": {},
   "outputs": [],
   "source": [
    "# We can do this by first applying a pi/2 pulse, waiting time delta t, and then applying another pi/2 pulse\n",
    "# We should observe oscillations at the difference in frequency between the applied pulses and the qubit"
   ]
  },
  {
   "cell_type": "code",
   "execution_count": 84,
   "id": "12bc8c0d-3430-41a6-841b-fe790023c2e6",
   "metadata": {},
   "outputs": [],
   "source": [
    "# Note that we will refer to pi/2 as x90, cuz its easier to type\n",
    "\n",
    "time_max_sec = 1.8 * us\n",
    "time_step_sec = 0.025 * us\n",
    "delay_times_sec = np.arange(0.1 * us, time_max_sec, time_step_sec)\n",
    "\n",
    "# Drive params\n",
    "drive_amp = pi_amp / 2\n",
    "\n",
    "with pulse.build(backend) as x90_pulse:\n",
    "    drive_duration = get_closest_multiple_of_16(pulse.seconds_to_samples(drive_duration_sec))\n",
    "    drive_sigma = pulse.seconds_to_samples(drive_sigma_sec)\n",
    "    drive_chan = pulse.drive_channel(qubit)\n",
    "    pulse.play(pulse.Gaussian(duration=drive_duration,\n",
    "                              amp=drive_amp,\n",
    "                              sigma=drive_sigma,\n",
    "                              name='x90_pulse'), drive_chan)"
   ]
  },
  {
   "cell_type": "code",
   "execution_count": 85,
   "id": "40adf387-bd65-4578-b743-f45fc85cf551",
   "metadata": {},
   "outputs": [],
   "source": [
    "# A trick that is used with Ramsey Experiments is to add a small detuning_MHz to throw the qubit off resonance\n",
    "# The measured Ramsey signal show now show oscillations with frequency near detuning_MHz, with a small offset\n",
    "# This small offset is exactly how much our rough_qubit_frequency is from the actual qubit frequency\n",
    "\n",
    "detuning_MHz = 2 \n",
    "ramsey_frequency = round(rough_qubit_frequency + detuning_MHz * MHz, 6) # need ramsey freq in Hz"
   ]
  },
  {
   "cell_type": "code",
   "execution_count": 86,
   "id": "ad6523bf-0911-4a95-85b2-814be8616a93",
   "metadata": {},
   "outputs": [],
   "source": [
    "# So now we vary delta t in this Experiment\n",
    "\n",
    "delay = Parameter('delay')\n",
    "with pulse.build(backend=backend, default_alignment='sequential', name=\"Ramsey delay Experiment\") as ramsey_schedule:\n",
    "    drive_chan = pulse.drive_channel(qubit)\n",
    "    pulse.set_frequency(ramsey_frequency, drive_chan)\n",
    "    pulse.call(x90_pulse)\n",
    "    pulse.delay(delay, drive_chan)\n",
    "    pulse.call(x90_pulse)\n",
    "    pulse.measure(qubits=[qubit], registers=[pulse.MemorySlot(mem_slot)])\n",
    "\n",
    "ramsey_schedules = [ramsey_schedule.assign_parameters({delay: get_dt_from(d)}, inplace=False) for d in delay_times_sec]"
   ]
  },
  {
   "cell_type": "code",
   "execution_count": 88,
   "id": "4058870e-a130-4c39-8363-10d380be0d78",
   "metadata": {},
   "outputs": [
    {
     "data": {
      "image/png": "[encoded data removed]",
      "text/plain": [
       "<Figure size 936x251.086 with 1 Axes>"
      ]
     },
     "execution_count": 88,
     "metadata": {},
     "output_type": "execute_result"
    }
   ],
   "source": [
    "ramsey_id = 15 # try varying this to verify if the delta t does change\n",
    "ramsey_schedules[ramsey_id].draw(backend=backend)"
   ]
  },
  {
   "cell_type": "code",
   "execution_count": 89,
   "id": "fc71fb9e-9eab-44cf-822c-567f40cd2c39",
   "metadata": {},
   "outputs": [
    {
     "name": "stdout",
     "output_type": "stream",
     "text": [
      "Job Status: job has successfully run\n"
     ]
    }
   ],
   "source": [
    "num_shots = 256\n",
    "\n",
    "job = backend.run(ramsey_schedules, \n",
    "                  meas_level=1, \n",
    "                  meas_return='single', \n",
    "                  shots=num_shots)\n",
    "\n",
    "job_monitor(job)"
   ]
  },
  {
   "cell_type": "code",
   "execution_count": 90,
   "id": "457bed26-922c-4ba2-8d73-ef6e9f21ffc6",
   "metadata": {},
   "outputs": [],
   "source": [
    "ramsey_results = job.result(timeout=0)"
   ]
  },
  {
   "cell_type": "code",
   "execution_count": 91,
   "id": "2f3f2eda-a66a-48d8-8dd7-be9651f01094",
   "metadata": {},
   "outputs": [
    {
     "data": {
      "image/png": "[encoded data removed]",
      "text/plain": [
       "<Figure size 432x288 with 1 Axes>"
      ]
     },
     "metadata": {
      "needs_background": "light"
     },
     "output_type": "display_data"
    }
   ],
   "source": [
    "ramsey_values = []\n",
    "\n",
    "for i in range(len(delay_times_sec)):\n",
    "    iq_data = ramsey_results.get_memory(i)[:,qubit] * scale_factor\n",
    "    ramsey_values.append(sum(map(classify, iq_data)) / num_shots)\n",
    "    \n",
    "plt.scatter(delay_times_sec/us, np.real(ramsey_values), color='black')\n",
    "plt.xlim(0, np.max(delay_times_sec/us))\n",
    "plt.title(\"Ramsey Experiment\", fontsize=15)\n",
    "plt.xlabel('Delay between X90 pulses [$\\mu$s]', fontsize=15)\n",
    "plt.ylabel('Measured Signal [a.u.]', fontsize=15)\n",
    "plt.show()"
   ]
  },
  {
   "cell_type": "code",
   "execution_count": 93,
   "id": "bca30f58-dd22-4208-ab07-5270a0fda024",
   "metadata": {},
   "outputs": [
    {
     "data": {
      "image/png": "[encoded data removed]",
      "text/plain": [
       "<Figure size 432x288 with 1 Axes>"
      ]
     },
     "metadata": {
      "needs_background": "light"
     },
     "output_type": "display_data"
    }
   ],
   "source": [
    "# Now we can fit the data to a sinusoidal and extract the delta frequency which will help us get the qubit frequency\n",
    "# Very important to note, the curve fitting might not work well unless good estimates are given first\n",
    "# So if it doesn't work first try, to to roughly approximate values that should work, and then scipy does the rest\n",
    "\n",
    "fit_params, y_fit = fit_function(delay_times_sec/us, np.real(ramsey_values),\n",
    "                                 lambda x, A, del_f_MHz, C, B: (\n",
    "                                          A * np.cos(2*np.pi*del_f_MHz*x - C) + B\n",
    "                                         ),\n",
    "                                 [0.5, 1./0.27, 0.5, 0.5]\n",
    "                                )\n",
    "\n",
    "# Off-resonance component\n",
    "_, del_f_MHz, _, _, = fit_params # freq is MHz since times in us\n",
    "\n",
    "plt.scatter(delay_times_sec/us, np.real(ramsey_values), color='black')\n",
    "plt.plot(delay_times_sec/us, y_fit, color='red', label=f\"df = {del_f_MHz:.2f} MHz\")\n",
    "plt.xlim(0, np.max(delay_times_sec/us))\n",
    "plt.xlabel('Delay between X90 pulses [$\\mu$s]', fontsize=15)\n",
    "plt.ylabel('Measured Signal [a.u.]', fontsize=15)\n",
    "plt.title('Ramsey Experiment', fontsize=15)\n",
    "plt.legend()\n",
    "plt.show()"
   ]
  },
  {
   "cell_type": "code",
   "execution_count": 94,
   "id": "ee31ec41-9cdb-494a-8859-e8245a3cd478",
   "metadata": {},
   "outputs": [
    {
     "name": "stdout",
     "output_type": "stream",
     "text": [
      "Our updated qubit frequency is now 5.155576 GHz. It used to be 5.157509 GHz\n"
     ]
    }
   ],
   "source": [
    "# And now we can update the rough_qubit_freqency\n",
    "\n",
    "precise_qubit_freq = rough_qubit_frequency + (detuning_MHz - del_f_MHz) * MHz # get new freq in Hz\n",
    "print(f\"Our updated qubit frequency is now {round(precise_qubit_freq/GHz, 6)} GHz. \"\n",
    "      f\"It used to be {round(rough_qubit_frequency / GHz, 6)} GHz\")"
   ]
  },
  {
   "cell_type": "markdown",
   "id": "e1fd1886-e329-4f48-bbd3-490bdddde17c",
   "metadata": {},
   "source": [
    "Measuring T2, Coherence Time, using Hahn Echoes"
   ]
  },
  {
   "cell_type": "code",
   "execution_count": 95,
   "id": "98e41c39-1dc4-4df8-b5bf-4408b86234b7",
   "metadata": {},
   "outputs": [],
   "source": [
    "# Hahn Echoes are quite similar to a Ramsey Experiment, so we still play 2 pi/2 pulses except now there is an additional pi pulse in between\n",
    "# The pi pulse at time tau reverses the accumulation of phase, and results in an echo at time 2*tau, when we play the second pi/2 pulse for the measurement\n",
    "# The new decay time from this gives us T2\n",
    "\n",
    "# T2 experiment parameters\n",
    "tau_max_sec = 200 * us\n",
    "tau_step_sec = 4 * us\n",
    "delay_times_sec = np.arange(2 * us, tau_max_sec, tau_step_sec)"
   ]
  },
  {
   "cell_type": "code",
   "execution_count": 96,
   "id": "d38e1ad1-b226-4294-833c-42ed8fe3556b",
   "metadata": {},
   "outputs": [],
   "source": [
    "delay = Parameter('delay')\n",
    "with pulse.build(backend=backend, default_alignment='sequential', name=\"T2 delay Experiment\") as t2_schedule:\n",
    "    drive_chan = pulse.drive_channel(qubit)\n",
    "    pulse.set_frequency(precise_qubit_freq, drive_chan)\n",
    "    pulse.call(x90_pulse)\n",
    "    pulse.delay(delay, drive_chan)\n",
    "    pulse.call(pi_pulse)\n",
    "    pulse.delay(delay, drive_chan)\n",
    "    pulse.call(x90_pulse)\n",
    "    pulse.measure(qubits=[qubit], registers=[pulse.MemorySlot(mem_slot)])\n",
    "\n",
    "t2_schedules = [t2_schedule.assign_parameters({delay: get_dt_from(d)}, inplace=False) for d in delay_times_sec]"
   ]
  },
  {
   "cell_type": "code",
   "execution_count": 97,
   "id": "6fee7caa-2cca-4390-9aa1-d085ebc572db",
   "metadata": {},
   "outputs": [
    {
     "data": {
      "image/png": "[encoded data removed]",
      "text/plain": [
       "<Figure size 936x251.086 with 1 Axes>"
      ]
     },
     "execution_count": 97,
     "metadata": {},
     "output_type": "execute_result"
    }
   ],
   "source": [
    "t2_schedules[-1].draw(backend=backend)"
   ]
  },
  {
   "cell_type": "code",
   "execution_count": 98,
   "id": "8983addf-4a52-4aa6-85da-a4b0ab1a631f",
   "metadata": {},
   "outputs": [
    {
     "name": "stdout",
     "output_type": "stream",
     "text": [
      "Job Status: job has successfully run\n"
     ]
    }
   ],
   "source": [
    "num_shots_per_point = 512\n",
    "\n",
    "job = backend.run(t2_schedules,\n",
    "                  meas_level=1,\n",
    "                  meas_return='single',\n",
    "                  shots=num_shots_per_point)\n",
    "\n",
    "job_monitor(job)"
   ]
  },
  {
   "cell_type": "code",
   "execution_count": 99,
   "id": "ff0c889a-e514-4aa0-8831-69e2315798e3",
   "metadata": {},
   "outputs": [],
   "source": [
    "t2_results = job.result(timeout=0)"
   ]
  },
  {
   "cell_type": "code",
   "execution_count": 100,
   "id": "9b603470-5f4f-41a1-91ba-ad16c233c2f0",
   "metadata": {},
   "outputs": [
    {
     "data": {
      "image/png": "[encoded data removed]",
      "text/plain": [
       "<Figure size 432x288 with 1 Axes>"
      ]
     },
     "metadata": {
      "needs_background": "light"
     },
     "output_type": "display_data"
    }
   ],
   "source": [
    "t2_values = []\n",
    "\n",
    "for i in range(len(delay_times_sec)):\n",
    "    iq_data = t2_results.get_memory(i)[:,qubit] * scale_factor\n",
    "    t2_values.append(sum(map(classify, iq_data)) / num_shots_per_point)\n",
    "\n",
    "plt.scatter(2*delay_times_sec/us, t2_values, color='black')\n",
    "plt.xlabel('Delay between X90 pulse and $\\pi$ pulse [$\\mu$s]', fontsize=15)\n",
    "plt.ylabel('Measured Signal [a.u.]', fontsize=15)\n",
    "plt.title('Hahn Echo Experiment', fontsize=15)\n",
    "plt.show()"
   ]
  },
  {
   "cell_type": "code",
   "execution_count": 101,
   "id": "30cb367a-ace4-4f02-9377-179f3049cfa1",
   "metadata": {},
   "outputs": [
    {
     "name": "stdout",
     "output_type": "stream",
     "text": [
      "\n"
     ]
    },
    {
     "data": {
      "image/png": "[encoded data removed]",
      "text/plain": [
       "<Figure size 432x288 with 1 Axes>"
      ]
     },
     "metadata": {
      "needs_background": "light"
     },
     "output_type": "display_data"
    }
   ],
   "source": [
    "fit_params, y_fit = fit_function(2*delay_times_sec/us, t2_values,\n",
    "             lambda x, A, B, T2: (A * np.exp(-x / T2) + B),\n",
    "             [-3, 0, 100])\n",
    "\n",
    "_, _, T2 = fit_params\n",
    "print()\n",
    "\n",
    "plt.scatter(2*delay_times_sec/us, t2_values, color='black')\n",
    "plt.plot(2*delay_times_sec/us, y_fit, color='red', label=f\"T2 = {T2:.2f} us\")\n",
    "plt.xlim(0, np.max(2*delay_times_sec/us))\n",
    "plt.xlabel('Delay between X90 pulse and $\\pi$ pulse [$\\mu$s]', fontsize=15)\n",
    "plt.ylabel('Measured Signal [a.u.]', fontsize=15)\n",
    "plt.title('Hahn Echo Experiment', fontsize=15)\n",
    "plt.legend()\n",
    "plt.show()"
   ]
  },
  {
   "cell_type": "markdown",
   "id": "b368a923-d6cb-4ca4-a03d-f5c28b82e92a",
   "metadata": {},
   "source": [
    "Dynamical Decoupling"
   ]
  },
  {
   "cell_type": "code",
   "execution_count": 126,
   "id": "dc4d0775-d09a-43cf-aefb-c65b9909431a",
   "metadata": {},
   "outputs": [
    {
     "name": "stdout",
     "output_type": "stream",
     "text": [
      "Total time ranges from 2.0 to 354.0 us\n"
     ]
    }
   ],
   "source": [
    "# The following technique is used to cancel out different frequencies of noise, and is used to extract longer T2s from the qubits\n",
    "\n",
    "# DD experiment params\n",
    "tau_sec_min = 1 * us\n",
    "tau_sec_max = 180 * us\n",
    "tau_step_sec = 4 * us\n",
    "taus_sec = np.arange(tau_sec_min, tau_sec_max, tau_step_sec)\n",
    "\n",
    "num_sequence = 1 # apply 1 sequence\n",
    "print(f\"Total time ranges from {2.*num_sequence*taus_sec[0] / us} to {2.*num_sequence*taus_sec[-1] / us} us\")"
   ]
  },
  {
   "cell_type": "code",
   "execution_count": 127,
   "id": "8e7c99b3-6928-4b0f-ac5f-9b61ccc9e775",
   "metadata": {},
   "outputs": [],
   "source": [
    "delay = Parameter('delay')\n",
    "with pulse.build(backend=backend, default_alignment='sequential', name=\"T2DD delay Experiment\") as T2DD_schedule:\n",
    "    drive_chan = pulse.drive_channel(qubit)\n",
    "    pulse.set_frequency(precise_qubit_freq, drive_chan)\n",
    "    pulse.call(x90_pulse)\n",
    "    pulse.delay(delay/2, drive_chan)\n",
    "    for loop_counts in range(num_sequence):\n",
    "        pulse.call(pi_pulse)\n",
    "        pulse.delay(delay, drive_chan)\n",
    "        with pulse.phase_offset(np.pi/2, pulse.drive_channel(qubit)):\n",
    "            pulse.call(pi_pulse)\n",
    "        pulse.delay(delay, drive_chan)\n",
    "        pulse.call(pi_pulse)\n",
    "        pulse.delay(delay, drive_chan)\n",
    "        with pulse.phase_offset(np.pi/2, pulse.drive_channel(qubit)):\n",
    "            pulse.call(pi_pulse)\n",
    "        if loop_counts != num_sequence-1:\n",
    "            pulse.delay(delay, drive_chan)\n",
    "    pulse.delay(delay/2, drive_chan)\n",
    "    pulse.call(x90_pulse)\n",
    "    pulse.measure(qubits=[qubit], registers=[pulse.MemorySlot(mem_slot)])\n",
    "\n",
    "T2DD_schedules = [T2DD_schedule.assign_parameters({delay: 2*get_dt_from(d/2)}, inplace=False) for d in taus_sec]"
   ]
  },
  {
   "cell_type": "code",
   "execution_count": 128,
   "id": "3348d790-b78c-4648-84d7-f5dfdb898188",
   "metadata": {},
   "outputs": [
    {
     "data": {
      "image/png": "[encoded data removed]",
      "text/plain": [
       "<Figure size 936x251.086 with 1 Axes>"
      ]
     },
     "execution_count": 128,
     "metadata": {},
     "output_type": "execute_result"
    }
   ],
   "source": [
    "T2DD_schedules[2].draw(backend=backend)"
   ]
  },
  {
   "cell_type": "code",
   "execution_count": 129,
   "id": "da5b8bda-6aae-4e6f-81a1-2702fc955bb3",
   "metadata": {},
   "outputs": [
    {
     "name": "stdout",
     "output_type": "stream",
     "text": [
      "Job Status: job has successfully run\n"
     ]
    }
   ],
   "source": [
    "num_shots_per_point = 1024\n",
    "\n",
    "job = backend.run(T2DD_schedules,\n",
    "                  meas_level=1,\n",
    "                  meas_return='single',\n",
    "                  shots=num_shots_per_point)\n",
    "\n",
    "\n",
    "job_monitor(job)"
   ]
  },
  {
   "cell_type": "code",
   "execution_count": 130,
   "id": "049e91f0-8dd5-42da-9e03-ab96d17707a9",
   "metadata": {},
   "outputs": [],
   "source": [
    "T2DD_results = job.result(timeout=0)"
   ]
  },
  {
   "cell_type": "code",
   "execution_count": 131,
   "id": "158b7844-086e-4e1f-83f7-727cc6e2164e",
   "metadata": {},
   "outputs": [
    {
     "data": {
      "image/png": "[encoded data removed]",
      "text/plain": [
       "<Figure size 432x288 with 1 Axes>"
      ]
     },
     "metadata": {
      "needs_background": "light"
     },
     "output_type": "display_data"
    }
   ],
   "source": [
    "times_sec = 4*num_sequence*taus_sec\n",
    "DD_values = []\n",
    "\n",
    "for i in range(len(times_sec)):\n",
    "    iq_data = T2DD_results.get_memory(i)[:,qubit] * scale_factor\n",
    "    DD_values.append(sum(map(classify, iq_data)) / num_shots_per_point)\n",
    "\n",
    "plt.scatter(times_sec/us, DD_values, color='black')\n",
    "plt.xlim(0, np.max(times_sec/us))\n",
    "plt.xlabel('Total time before measurement [$\\mu$s]', fontsize=15)\n",
    "plt.ylabel('Measured Signal [a.u.]', fontsize=15)\n",
    "plt.title('Dynamical Decoupling Experiment', fontsize=15)\n",
    "plt.show()"
   ]
  },
  {
   "cell_type": "code",
   "execution_count": 132,
   "id": "fbc616d2-0a77-4233-a166-548111b2e738",
   "metadata": {},
   "outputs": [
    {
     "data": {
      "image/png": "[encoded data removed]",
      "text/plain": [
       "<Figure size 432x288 with 1 Axes>"
      ]
     },
     "metadata": {
      "needs_background": "light"
     },
     "output_type": "display_data"
    }
   ],
   "source": [
    "# Fit the data\n",
    "fit_func = lambda x, A, B, T2DD: (A * np.exp(-x / T2DD) + B)\n",
    "fitparams, conv = curve_fit(fit_func, times_sec/us, DD_values, [3.5, 0.8, 150])\n",
    "\n",
    "_, _, T2DD = fitparams\n",
    "plt.scatter(times_sec/us, DD_values, color='black')\n",
    "plt.plot(times_sec/us, fit_func(times_sec/us, *fitparams), color='red', label=f\"T2DD = {T2DD:.2f} us, T2 = {T2:.2f}\")\n",
    "plt.xlim([0, np.max(times_sec/us)])\n",
    "plt.xlabel('Total time before measurement [$\\mu$s]', fontsize=15)\n",
    "plt.ylabel('Measured Signal [a.u.]', fontsize=15)\n",
    "plt.title('Dynamical Decoupling Experiment', fontsize=15)\n",
    "plt.legend()\n",
    "plt.show()"
   ]
  }
 ],
 "metadata": {
  "kernelspec": {
   "display_name": "Python 3 (ipykernel)",
   "language": "python",
   "name": "python3"
  },
  "language_info": {
   "codemirror_mode": {
    "name": "ipython",
    "version": 3
   },
   "file_extension": ".py",
   "mimetype": "text/x-python",
   "name": "python",
   "nbconvert_exporter": "python",
   "pygments_lexer": "ipython3",
   "version": "3.8.13"
  },
  "widgets": {
   "application/vnd.jupyter.widget-state+json": {
    "state": {
     "00a9860912904799ae63da22ea245998": {
      "model_module": "@jupyter-widgets/base",
      "model_module_version": "1.2.0",
      "model_name": "LayoutModel",
      "state": {
       "width": "145px"
      }
     },
     "013106f814a84af2a84fb84a946623f7": {
      "model_module": "@jupyter-widgets/controls",
      "model_module_version": "1.5.0",
      "model_name": "DescriptionStyleModel",
      "state": {
       "description_width": ""
      }
     },
     "0479ed6ae1c44ae98b76cde570ac5ce1": {
      "model_module": "@jupyter-widgets/controls",
      "model_module_version": "1.5.0",
      "model_name": "DescriptionStyleModel",
      "state": {
       "description_width": ""
      }
     },
     "0512a6a176f74574aae10145cbfa96f5": {
      "model_module": "@jupyter-widgets/base",
      "model_module_version": "1.2.0",
      "model_name": "LayoutModel",
      "state": {
       "max_width": "700px",
       "min_width": "700px"
      }
     },
     "0531b3e99dad4074aad1ba8caa26e2e4": {
      "model_module": "@jupyter-widgets/controls",
      "model_module_version": "1.5.0",
      "model_name": "DescriptionStyleModel",
      "state": {
       "description_width": ""
      }
     },
     "07ea47584a3f45c0a0da48bced8b34cb": {
      "model_module": "@jupyter-widgets/base",
      "model_module_version": "1.2.0",
      "model_name": "LayoutModel",
      "state": {
       "max_width": "700px",
       "min_width": "700px"
      }
     },
     "08222c5101fe46069cfacc7e55442076": {
      "model_module": "@jupyter-widgets/controls",
      "model_module_version": "1.5.0",
      "model_name": "DescriptionStyleModel",
      "state": {
       "description_width": ""
      }
     },
     "0878cf9e1fb845ff9eeaee5cca70f68e": {
      "model_module": "@jupyter-widgets/controls",
      "model_module_version": "1.5.0",
      "model_name": "HTMLModel",
      "state": {
       "layout": "IPY_MODEL_daa0fd4b0c704e92af4f8e3524067068",
       "style": "IPY_MODEL_914862b7f80741cb9647122f57a818cf",
       "value": "ibm_perth"
      }
     },
     "089e214e01104b0d9bdb75c6017c8e29": {
      "model_module": "@jupyter-widgets/controls",
      "model_module_version": "1.5.0",
      "model_name": "HTMLModel",
      "state": {
       "layout": "IPY_MODEL_f1d0327646354a6ab3c29c37e85c894b",
       "style": "IPY_MODEL_b4fe8a6b2c2945e4b29b9266849e6484",
       "value": "634ad34f0a4a0c046ed02df2"
      }
     },
     "092b344e5ea842178e564f3ef70c586d": {
      "model_module": "@jupyter-widgets/controls",
      "model_module_version": "1.5.0",
      "model_name": "HBoxModel",
      "state": {
       "children": [
        "IPY_MODEL_5588536cf00e4a24944442e74eb9bf8c",
        "IPY_MODEL_98fd2b4c49ea4b778b091f527fa447b4",
        "IPY_MODEL_a6e017b5f83344b599e7e713e2e335a7",
        "IPY_MODEL_238b70d3b5194627adaf3af8ea919aa4",
        "IPY_MODEL_58bf17c127094b01be2523c9bf97bf1b",
        "IPY_MODEL_a03650b58e8e4aa9a91a5b69018ceaf2"
       ],
       "layout": "IPY_MODEL_b007a1aebb0d43098d07f3f2aec964d3"
      }
     },
     "0971cc97279547c8aa3a78357f1b8bbc": {
      "model_module": "@jupyter-widgets/base",
      "model_module_version": "1.2.0",
      "model_name": "LayoutModel",
      "state": {
       "width": "190px"
      }
     },
     "099a6ba57a6a428889b0fa92b71aeef4": {
      "model_module": "@jupyter-widgets/base",
      "model_module_version": "1.2.0",
      "model_name": "LayoutModel",
      "state": {
       "width": "145px"
      }
     },
     "09cdc47dc6114757b26bcfbc18f36609": {
      "model_module": "@jupyter-widgets/controls",
      "model_module_version": "1.5.0",
      "model_name": "DescriptionStyleModel",
      "state": {
       "description_width": ""
      }
     },
     "0a83f749d454432690d0c3cd406ea0f3": {
      "model_module": "@jupyter-widgets/base",
      "model_module_version": "1.2.0",
      "model_name": "LayoutModel",
      "state": {
       "margin": "0px 5px 0px 0px",
       "width": "32px"
      }
     },
     "0a891d6b87694b1e83c946f8043367c6": {
      "model_module": "@jupyter-widgets/controls",
      "model_module_version": "1.5.0",
      "model_name": "DescriptionStyleModel",
      "state": {
       "description_width": ""
      }
     },
     "0b5f8c0b4837458b946e137c35a03fe0": {
      "model_module": "@jupyter-widgets/base",
      "model_module_version": "1.2.0",
      "model_name": "LayoutModel",
      "state": {
       "overflow_x": "scroll"
      }
     },
     "0e617f542e48422dac04ddcb1c0cb3aa": {
      "model_module": "@jupyter-widgets/controls",
      "model_module_version": "1.5.0",
      "model_name": "DescriptionStyleModel",
      "state": {
       "description_width": ""
      }
     },
     "0f0da2449d8c4e638418c96134d86eef": {
      "model_module": "@jupyter-widgets/base",
      "model_module_version": "1.2.0",
      "model_name": "LayoutModel",
      "state": {
       "overflow_x": "scroll"
      }
     },
     "0f765e041b1e442b9eff7a917f0e5897": {
      "model_module": "@jupyter-widgets/controls",
      "model_module_version": "1.5.0",
      "model_name": "HTMLModel",
      "state": {
       "layout": "IPY_MODEL_b5a50c057c534f86901c5c54a6e81d01",
       "style": "IPY_MODEL_c9311ec23b6240e2b6c645eda87577f0",
       "value": "ibm_perth"
      }
     },
     "1040bac62bb74297a1bfe44abf47484d": {
      "model_module": "@jupyter-widgets/controls",
      "model_module_version": "1.5.0",
      "model_name": "ButtonStyleModel",
      "state": {}
     },
     "1202cb16b50640ab9962e98958e2899e": {
      "model_module": "@jupyter-widgets/controls",
      "model_module_version": "1.5.0",
      "model_name": "HTMLModel",
      "state": {
       "layout": "IPY_MODEL_b42875da31254c3187dbad27dcc222c6",
       "style": "IPY_MODEL_0a891d6b87694b1e83c946f8043367c6",
       "value": "job incurred error"
      }
     },
     "128e37977f5340fe97d1473683cbc43d": {
      "model_module": "@jupyter-widgets/base",
      "model_module_version": "1.2.0",
      "model_name": "LayoutModel",
      "state": {
       "width": "95px"
      }
     },
     "12d7b4760dd849c18d5285665f363559": {
      "model_module": "@jupyter-widgets/base",
      "model_module_version": "1.2.0",
      "model_name": "LayoutModel",
      "state": {
       "overflow_x": "scroll"
      }
     },
     "12ed2c9f54b64ccba1cf59b711adcbc3": {
      "model_module": "@jupyter-widgets/base",
      "model_module_version": "1.2.0",
      "model_name": "LayoutModel",
      "state": {
       "width": "145px"
      }
     },
     "1503ce9484cb4c06a678a3f15c62ee66": {
      "model_module": "@jupyter-widgets/controls",
      "model_module_version": "1.5.0",
      "model_name": "DescriptionStyleModel",
      "state": {
       "description_width": ""
      }
     },
     "151d22596d054b86b71a7612dda46642": {
      "model_module": "@jupyter-widgets/controls",
      "model_module_version": "1.5.0",
      "model_name": "HTMLModel",
      "state": {
       "layout": "IPY_MODEL_9ba9692635494f99a2404968930c8e9e",
       "style": "IPY_MODEL_6eca8b45641740349897deef5630921e",
       "value": "ibm_perth"
      }
     },
     "18a66966fa5042849d12ce31e154765c": {
      "model_module": "@jupyter-widgets/controls",
      "model_module_version": "1.5.0",
      "model_name": "HTMLModel",
      "state": {
       "layout": "IPY_MODEL_099a6ba57a6a428889b0fa92b71aeef4",
       "style": "IPY_MODEL_dc5509a5d1634753b6bb9f8542894ad1",
       "value": "<h5>Backend</h5>"
      }
     },
     "1968f4424f604a8a977c9d044cddd7e9": {
      "model_module": "@jupyter-widgets/base",
      "model_module_version": "1.2.0",
      "model_name": "LayoutModel",
      "state": {
       "margin": "0px 5px 0px 0px",
       "width": "32px"
      }
     },
     "1a7258a6a2cb4310b8e498ab2505a28b": {
      "model_module": "@jupyter-widgets/base",
      "model_module_version": "1.2.0",
      "model_name": "LayoutModel",
      "state": {
       "width": "190px"
      }
     },
     "1a763ce1a41b47368e70b6a92de46684": {
      "model_module": "@jupyter-widgets/controls",
      "model_module_version": "1.5.0",
      "model_name": "HTMLModel",
      "state": {
       "layout": "IPY_MODEL_4058399679c0410d80b8219308a305b6",
       "style": "IPY_MODEL_0531b3e99dad4074aad1ba8caa26e2e4",
       "value": "634ad2f34bc4b8383a9eb726"
      }
     },
     "1b222a38d0ec4dd4a80682c994f96ccc": {
      "model_module": "@jupyter-widgets/controls",
      "model_module_version": "1.5.0",
      "model_name": "DescriptionStyleModel",
      "state": {
       "description_width": ""
      }
     },
     "1d6efa1a1c2c4ea686db2ca1eaf227f6": {
      "model_module": "@jupyter-widgets/base",
      "model_module_version": "1.2.0",
      "model_name": "LayoutModel",
      "state": {
       "width": "95px"
      }
     },
     "1f2abcb30a144ff6aa941ee135838c0b": {
      "model_module": "@jupyter-widgets/controls",
      "model_module_version": "1.5.0",
      "model_name": "HTMLModel",
      "state": {
       "layout": "IPY_MODEL_d6013c90b1fc4364b46eb75d184e8bc6",
       "style": "IPY_MODEL_013106f814a84af2a84fb84a946623f7",
       "value": "634ad1b86c7c48050b6be653"
      }
     },
     "21173bbbbe4949c09041f60838552a22": {
      "model_module": "@jupyter-widgets/base",
      "model_module_version": "1.2.0",
      "model_name": "LayoutModel",
      "state": {
       "width": "190px"
      }
     },
     "218f84f02dac456492dec75f52de55ee": {
      "model_module": "@jupyter-widgets/base",
      "model_module_version": "1.2.0",
      "model_name": "LayoutModel",
      "state": {
       "width": "145px"
      }
     },
     "231f3ea53adf4566b7697426f6afddfb": {
      "model_module": "@jupyter-widgets/controls",
      "model_module_version": "1.5.0",
      "model_name": "ButtonStyleModel",
      "state": {
       "button_color": "white"
      }
     },
     "238b70d3b5194627adaf3af8ea919aa4": {
      "model_module": "@jupyter-widgets/controls",
      "model_module_version": "1.5.0",
      "model_name": "HTMLModel",
      "state": {
       "layout": "IPY_MODEL_6acef21c38a8435393ee397df2856372",
       "style": "IPY_MODEL_3f05a8a821424aa18b0a937163ff99ea",
       "value": "<font style='color:#DC267F'>ERROR</font>"
      }
     },
     "23a8946f43334541a43bb23ea06d7fad": {
      "model_module": "@jupyter-widgets/controls",
      "model_module_version": "1.5.0",
      "model_name": "DescriptionStyleModel",
      "state": {
       "description_width": ""
      }
     },
     "243888519d3b49c9affd1913a4d40851": {
      "model_module": "@jupyter-widgets/base",
      "model_module_version": "1.2.0",
      "model_name": "LayoutModel",
      "state": {
       "margin": "0px 5px 0px 0px",
       "width": "32px"
      }
     },
     "24da1561a1aa4ae5b2f24a622d373335": {
      "model_module": "@jupyter-widgets/controls",
      "model_module_version": "1.5.0",
      "model_name": "ButtonModel",
      "state": {
       "icon": "close",
       "layout": "IPY_MODEL_243888519d3b49c9affd1913a4d40851",
       "style": "IPY_MODEL_fb2b2f750d484baabb286d9e75a0980d"
      }
     },
     "24f5b034591440b9b465cf793053dc8e": {
      "model_module": "@jupyter-widgets/controls",
      "model_module_version": "1.5.0",
      "model_name": "ButtonModel",
      "state": {
       "button_style": "primary",
       "description": "Clear",
       "layout": "IPY_MODEL_b272a88aed5942ea89dd0d6b66e4a070",
       "style": "IPY_MODEL_1040bac62bb74297a1bfe44abf47484d"
      }
     },
     "25d5ca1ed823481c9313fb008a8f6e8e": {
      "model_module": "@jupyter-widgets/controls",
      "model_module_version": "1.5.0",
      "model_name": "HTMLModel",
      "state": {
       "layout": "IPY_MODEL_12d7b4760dd849c18d5285665f363559",
       "style": "IPY_MODEL_b6d76867f0e44606a97daa7b5cccf4e0",
       "value": "job has successfully run"
      }
     },
     "26eb715265554d688e323b119ae9c1e9": {
      "model_module": "@jupyter-widgets/base",
      "model_module_version": "1.2.0",
      "model_name": "LayoutModel",
      "state": {
       "width": "145px"
      }
     },
     "26f413b618d5459494386fe5a74636a3": {
      "model_module": "@jupyter-widgets/controls",
      "model_module_version": "1.5.0",
      "model_name": "ButtonModel",
      "state": {
       "icon": "close",
       "layout": "IPY_MODEL_84de4e6b6a584a7ab2b7b54f62435494",
       "style": "IPY_MODEL_b142669fca5240e9bcbb4980145c3177"
      }
     },
     "27a2fa53360846f48141b380f672a31a": {
      "model_module": "@jupyter-widgets/base",
      "model_module_version": "1.2.0",
      "model_name": "LayoutModel",
      "state": {
       "margin": "0px 5px 0px 0px",
       "width": "32px"
      }
     },
     "28ce6713bab44d6a83523d70749df7d3": {
      "model_module": "@jupyter-widgets/controls",
      "model_module_version": "1.5.0",
      "model_name": "HBoxModel",
      "state": {
       "children": [
        "IPY_MODEL_b97a525131a144feb3ad673124d3607f",
        "IPY_MODEL_54c8c9258ffd4c05bc0d056f21982598",
        "IPY_MODEL_517e9785a4d94b5d9d8444105eb1469d",
        "IPY_MODEL_cac054834f054e3398410ca3e5c0512c",
        "IPY_MODEL_a82ae72ff8214c1385ee4abaae3f185c",
        "IPY_MODEL_83f8c86755a444eaa31f911d8143eaf8"
       ],
       "layout": "IPY_MODEL_6be945c8611149e485a56a9d737cdcb5"
      }
     },
     "29f6d3709636445fa78fce6e684ae217": {
      "model_module": "@jupyter-widgets/controls",
      "model_module_version": "1.5.0",
      "model_name": "HTMLModel",
      "state": {
       "layout": "IPY_MODEL_c89c9bdd2ca5424a9a4bed9f3f6e9a4c",
       "style": "IPY_MODEL_c5df80aa226f4e7881b1bb5187dc54fb",
       "value": "<font style='color:#34BC6E'>DONE</font>"
      }
     },
     "2cdc1920475b46e1b2158c7445a67d01": {
      "model_module": "@jupyter-widgets/base",
      "model_module_version": "1.2.0",
      "model_name": "LayoutModel",
      "state": {
       "overflow_x": "scroll"
      }
     },
     "2d9f1f3f3cb9436ca3725bb40be49639": {
      "model_module": "@jupyter-widgets/controls",
      "model_module_version": "1.5.0",
      "model_name": "HTMLModel",
      "state": {
       "layout": "IPY_MODEL_9a300d635824494cb45b84e9c4f0a474",
       "style": "IPY_MODEL_767f067bb45a451caaad77365de12c20",
       "value": "job incurred error"
      }
     },
     "2f43275659ed4197aacb77dc4b61301c": {
      "model_module": "@jupyter-widgets/controls",
      "model_module_version": "1.5.0",
      "model_name": "ButtonStyleModel",
      "state": {
       "button_color": "white"
      }
     },
     "30034d7b64ff48d1856fe3b9d3b22b4b": {
      "model_module": "@jupyter-widgets/controls",
      "model_module_version": "1.5.0",
      "model_name": "ButtonStyleModel",
      "state": {
       "button_color": "white"
      }
     },
     "304e11c0b18644c08d4d893dae3b6b86": {
      "model_module": "@jupyter-widgets/controls",
      "model_module_version": "1.5.0",
      "model_name": "HTMLModel",
      "state": {
       "layout": "IPY_MODEL_b7fdf2750dcd49f699bfb695e7531aaf",
       "style": "IPY_MODEL_652147845f0e4065828ce8cf7b56000e",
       "value": "<font style='color:#34BC6E'>DONE</font>"
      }
     },
     "34dfc79a521f4aefad43184552b7d930": {
      "model_module": "@jupyter-widgets/controls",
      "model_module_version": "1.5.0",
      "model_name": "DescriptionStyleModel",
      "state": {
       "description_width": ""
      }
     },
     "35801280fce44bacac86d8a7d844ded8": {
      "model_module": "@jupyter-widgets/controls",
      "model_module_version": "1.5.0",
      "model_name": "HTMLModel",
      "state": {
       "layout": "IPY_MODEL_5385e09ace1b4c42b0e9c0277b5464ba",
       "style": "IPY_MODEL_0e617f542e48422dac04ddcb1c0cb3aa",
       "value": "job incurred error"
      }
     },
     "3641d2b518644df683e3d5621644dacb": {
      "model_module": "@jupyter-widgets/controls",
      "model_module_version": "1.5.0",
      "model_name": "DescriptionStyleModel",
      "state": {
       "description_width": ""
      }
     },
     "3af364813fcf4fa4b088f8259eb6dc49": {
      "model_module": "@jupyter-widgets/controls",
      "model_module_version": "1.5.0",
      "model_name": "HTMLModel",
      "state": {
       "layout": "IPY_MODEL_819de7aca5e74efbbe9df0d2144093b0",
       "style": "IPY_MODEL_a04fbfc2311a4abca7d286e732c5b484",
       "value": "-"
      }
     },
     "3b44f0d8c12f480383bfc7813bab6f25": {
      "model_module": "@jupyter-widgets/base",
      "model_module_version": "1.2.0",
      "model_name": "LayoutModel",
      "state": {
       "width": "70px"
      }
     },
     "3ba2f8fcaf3f46ff8e0718e866f2a109": {
      "model_module": "@jupyter-widgets/base",
      "model_module_version": "1.2.0",
      "model_name": "LayoutModel",
      "state": {
       "width": "70px"
      }
     },
     "3df7b2a9c3fa410694dc27f95a81731a": {
      "model_module": "@jupyter-widgets/controls",
      "model_module_version": "1.5.0",
      "model_name": "HTMLModel",
      "state": {
       "layout": "IPY_MODEL_7ec9f47161284bbd9f79b81fc9ccd459",
       "style": "IPY_MODEL_0479ed6ae1c44ae98b76cde570ac5ce1",
       "value": "job has successfully run"
      }
     },
     "3eb1d8c5a60f4d4eadcc9603924639af": {
      "model_module": "@jupyter-widgets/controls",
      "model_module_version": "1.5.0",
      "model_name": "HTMLModel",
      "state": {
       "layout": "IPY_MODEL_e217f9c25ffd4d86b122bbbfb52d6026",
       "style": "IPY_MODEL_e68c13520c7d447c98e2da8f01f9e9e8",
       "value": "job has successfully run"
      }
     },
     "3f05a8a821424aa18b0a937163ff99ea": {
      "model_module": "@jupyter-widgets/controls",
      "model_module_version": "1.5.0",
      "model_name": "DescriptionStyleModel",
      "state": {
       "description_width": ""
      }
     },
     "3f8db5eda94a42a2bb5b75250ce3b039": {
      "model_module": "@jupyter-widgets/base",
      "model_module_version": "1.2.0",
      "model_name": "LayoutModel",
      "state": {
       "overflow_x": "scroll"
      }
     },
     "3f9f919e58aa42ae966c1e3e912beb5b": {
      "model_module": "@jupyter-widgets/controls",
      "model_module_version": "1.5.0",
      "model_name": "ButtonModel",
      "state": {
       "icon": "close",
       "layout": "IPY_MODEL_a9804e7b34d642c3abcdb20f1d815aa2",
       "style": "IPY_MODEL_ea35ddea8e7e49f3bdf365f4fae67f51"
      }
     },
     "4058399679c0410d80b8219308a305b6": {
      "model_module": "@jupyter-widgets/base",
      "model_module_version": "1.2.0",
      "model_name": "LayoutModel",
      "state": {
       "width": "190px"
      }
     },
     "40a7a41535cc436887a16f639f52d0a1": {
      "model_module": "@jupyter-widgets/controls",
      "model_module_version": "1.5.0",
      "model_name": "DescriptionStyleModel",
      "state": {
       "description_width": ""
      }
     },
     "40e05fc56e0744559196d8bec834eea8": {
      "model_module": "@jupyter-widgets/base",
      "model_module_version": "1.2.0",
      "model_name": "LayoutModel",
      "state": {}
     },
     "41decd5a25ef41a6923669b74e8e5094": {
      "model_module": "@jupyter-widgets/controls",
      "model_module_version": "1.5.0",
      "model_name": "DescriptionStyleModel",
      "state": {
       "description_width": ""
      }
     },
     "43106455beae463a85ab861c1e219d4d": {
      "model_module": "@jupyter-widgets/base",
      "model_module_version": "1.2.0",
      "model_name": "LayoutModel",
      "state": {
       "width": "190px"
      }
     },
     "4821dbf98cab4135b888cdd76ee41077": {
      "model_module": "@jupyter-widgets/controls",
      "model_module_version": "1.5.0",
      "model_name": "HBoxModel",
      "state": {
       "children": [
        "IPY_MODEL_e0be1406b08240058dc95d4c56b975f9",
        "IPY_MODEL_089e214e01104b0d9bdb75c6017c8e29",
        "IPY_MODEL_b1f706d30fc241d094b3ff03bb245cfc",
        "IPY_MODEL_51567b0e310e42bd8a76cffe8a58616a",
        "IPY_MODEL_ebc51025ac2a482297cadf4af0945ead",
        "IPY_MODEL_1202cb16b50640ab9962e98958e2899e"
       ],
       "layout": "IPY_MODEL_98aaf57b06084ccdb391225675245c2e"
      }
     },
     "4ab5eb1d9408403a93bc8b4c3df14eb2": {
      "model_module": "@jupyter-widgets/base",
      "model_module_version": "1.2.0",
      "model_name": "LayoutModel",
      "state": {
       "width": "95px"
      }
     },
     "4acdeb60c32e4a6e8b0f3354a8b0d304": {
      "model_module": "@jupyter-widgets/base",
      "model_module_version": "1.2.0",
      "model_name": "LayoutModel",
      "state": {
       "width": "70px"
      }
     },
     "4ba4bc89178f43b2833b3451960128e2": {
      "model_module": "@jupyter-widgets/base",
      "model_module_version": "1.2.0",
      "model_name": "LayoutModel",
      "state": {
       "margin": "0px 5px 0px 0px",
       "width": "32px"
      }
     },
     "4e858eb159664d208c84413b89a7080e": {
      "model_module": "@jupyter-widgets/controls",
      "model_module_version": "1.5.0",
      "model_name": "DescriptionStyleModel",
      "state": {
       "description_width": ""
      }
     },
     "4f1641ba791f4fa495cd8d59a1730403": {
      "model_module": "@jupyter-widgets/controls",
      "model_module_version": "1.5.0",
      "model_name": "DescriptionStyleModel",
      "state": {
       "description_width": ""
      }
     },
     "4fbaba12d3ca4c58b536617c34758af4": {
      "model_module": "@jupyter-widgets/base",
      "model_module_version": "1.2.0",
      "model_name": "LayoutModel",
      "state": {
       "width": "95px"
      }
     },
     "5034b7dbd7f94d968b212c88d2c597b1": {
      "model_module": "@jupyter-widgets/controls",
      "model_module_version": "1.5.0",
      "model_name": "DescriptionStyleModel",
      "state": {
       "description_width": ""
      }
     },
     "504fa81ddca74dd1a0f3ec8799448d24": {
      "model_module": "@jupyter-widgets/controls",
      "model_module_version": "1.5.0",
      "model_name": "DescriptionStyleModel",
      "state": {
       "description_width": ""
      }
     },
     "50d7c8f376684f1abded6045f362a373": {
      "model_module": "@jupyter-widgets/controls",
      "model_module_version": "1.5.0",
      "model_name": "DescriptionStyleModel",
      "state": {
       "description_width": ""
      }
     },
     "51567b0e310e42bd8a76cffe8a58616a": {
      "model_module": "@jupyter-widgets/controls",
      "model_module_version": "1.5.0",
      "model_name": "HTMLModel",
      "state": {
       "layout": "IPY_MODEL_a472747d2886485ca223cc25952e6b1b",
       "style": "IPY_MODEL_cda2c6622c584c1ea7f77874d833b7ea",
       "value": "<font style='color:#DC267F'>ERROR</font>"
      }
     },
     "517e9785a4d94b5d9d8444105eb1469d": {
      "model_module": "@jupyter-widgets/controls",
      "model_module_version": "1.5.0",
      "model_name": "HTMLModel",
      "state": {
       "layout": "IPY_MODEL_f6e9d9f336814ce780fa24c71294d7b5",
       "style": "IPY_MODEL_4e858eb159664d208c84413b89a7080e",
       "value": "ibm_perth"
      }
     },
     "520b2b55d0fd456eb185f8e5c6a8ee31": {
      "model_module": "@jupyter-widgets/controls",
      "model_module_version": "1.5.0",
      "model_name": "HBoxModel",
      "state": {
       "children": [
        "IPY_MODEL_e0abd618462c4c53a97ed42d082c06bc",
        "IPY_MODEL_b3298eb76ee44dff9443a681b3f06b11",
        "IPY_MODEL_f27233945e6f467cadc72d98816a325e",
        "IPY_MODEL_29f6d3709636445fa78fce6e684ae217",
        "IPY_MODEL_3af364813fcf4fa4b088f8259eb6dc49",
        "IPY_MODEL_b785c998dac94db8b779098ed38f51ac"
       ],
       "layout": "IPY_MODEL_db45db6b20b441338a2f7c46acf02b79"
      }
     },
     "52f9bbaa89674c19b657c1fbf39a3705": {
      "model_module": "@jupyter-widgets/controls",
      "model_module_version": "1.5.0",
      "model_name": "DescriptionStyleModel",
      "state": {
       "description_width": ""
      }
     },
     "5385e09ace1b4c42b0e9c0277b5464ba": {
      "model_module": "@jupyter-widgets/base",
      "model_module_version": "1.2.0",
      "model_name": "LayoutModel",
      "state": {
       "overflow_x": "scroll"
      }
     },
     "54c8c9258ffd4c05bc0d056f21982598": {
      "model_module": "@jupyter-widgets/controls",
      "model_module_version": "1.5.0",
      "model_name": "HTMLModel",
      "state": {
       "layout": "IPY_MODEL_21173bbbbe4949c09041f60838552a22",
       "style": "IPY_MODEL_9f6d6ae49bd944edb397e538ee5c9fd3",
       "value": "634acde13d7bcf68269e4d1d"
      }
     },
     "5588536cf00e4a24944442e74eb9bf8c": {
      "model_module": "@jupyter-widgets/controls",
      "model_module_version": "1.5.0",
      "model_name": "ButtonModel",
      "state": {
       "icon": "close",
       "layout": "IPY_MODEL_e5b035cb80a342b48b96666c215e1937",
       "style": "IPY_MODEL_82657c96e0a84844947544514ae19e83"
      }
     },
     "565e4bda9ca24667966434a08f683a34": {
      "model_module": "@jupyter-widgets/base",
      "model_module_version": "1.2.0",
      "model_name": "LayoutModel",
      "state": {
       "width": "70px"
      }
     },
     "57eac1a06d1649edbb5a10d8b95d5d18": {
      "model_module": "@jupyter-widgets/controls",
      "model_module_version": "1.5.0",
      "model_name": "HTMLModel",
      "state": {
       "layout": "IPY_MODEL_4acdeb60c32e4a6e8b0f3354a8b0d304",
       "style": "IPY_MODEL_827dcb5c392f440990c99a5140fda062",
       "value": "-"
      }
     },
     "58bf17c127094b01be2523c9bf97bf1b": {
      "model_module": "@jupyter-widgets/controls",
      "model_module_version": "1.5.0",
      "model_name": "HTMLModel",
      "state": {
       "layout": "IPY_MODEL_565e4bda9ca24667966434a08f683a34",
       "style": "IPY_MODEL_d94ddb52ad7c49029def8d8a609eae46",
       "value": "-"
      }
     },
     "5bf22e7ed499409aac3003e04fdc395d": {
      "model_module": "@jupyter-widgets/controls",
      "model_module_version": "1.5.0",
      "model_name": "ButtonStyleModel",
      "state": {
       "button_color": "white"
      }
     },
     "5c50122d3cf2469da1abcedff6715739": {
      "model_module": "@jupyter-widgets/controls",
      "model_module_version": "1.5.0",
      "model_name": "DescriptionStyleModel",
      "state": {
       "description_width": ""
      }
     },
     "5d794001540b45b79a9ec73a8d4924c0": {
      "model_module": "@jupyter-widgets/controls",
      "model_module_version": "1.5.0",
      "model_name": "HTMLModel",
      "state": {
       "layout": "IPY_MODEL_218f84f02dac456492dec75f52de55ee",
       "style": "IPY_MODEL_d6977b2fa2ab46b5bca6be44e1c6f16f",
       "value": "ibm_perth"
      }
     },
     "5ee50bd28a294975a09c8f0635815048": {
      "model_module": "@jupyter-widgets/controls",
      "model_module_version": "1.5.0",
      "model_name": "HTMLModel",
      "state": {
       "layout": "IPY_MODEL_6e81273f91704568ac9d8632222de95b",
       "style": "IPY_MODEL_ab8339f475e54c0598b7835d714c3b5b",
       "value": "ibm_perth"
      }
     },
     "5ee5436027cc46d497d09be262e02f9c": {
      "model_module": "@jupyter-widgets/base",
      "model_module_version": "1.2.0",
      "model_name": "LayoutModel",
      "state": {
       "width": "145px"
      }
     },
     "60f0fff16c934f67b2755dec2009cfaa": {
      "model_module": "@jupyter-widgets/controls",
      "model_module_version": "1.5.0",
      "model_name": "HBoxModel",
      "state": {
       "children": [
        "IPY_MODEL_24da1561a1aa4ae5b2f24a622d373335",
        "IPY_MODEL_949fbc01d0bd4bdc875b053f52456a92",
        "IPY_MODEL_7a1f9f23367b49ca8ad1f21a2d298bad",
        "IPY_MODEL_7eac947e660f4215b893ef5631457ec7",
        "IPY_MODEL_57eac1a06d1649edbb5a10d8b95d5d18",
        "IPY_MODEL_3eb1d8c5a60f4d4eadcc9603924639af"
       ],
       "layout": "IPY_MODEL_93fa2743a5e94de89eceafd7625ca814"
      }
     },
     "62865dfab2f741a0ac74aa686d5f15f7": {
      "model_module": "@jupyter-widgets/controls",
      "model_module_version": "1.5.0",
      "model_name": "HTMLModel",
      "state": {
       "layout": "IPY_MODEL_b8c8dd1aeab348238e084c3fb86367ce",
       "style": "IPY_MODEL_705b67728e504ccc8ba78a591364e0e2",
       "value": "634ad4c492d4044570d92b4b"
      }
     },
     "639be107002c490a9c6acd6e68553c48": {
      "model_module": "@jupyter-widgets/controls",
      "model_module_version": "1.5.0",
      "model_name": "HTMLModel",
      "state": {
       "layout": "IPY_MODEL_7bf83455919841c2bcb1d161bea4c73a",
       "style": "IPY_MODEL_23a8946f43334541a43bb23ea06d7fad",
       "value": "634ac7521623e564e663edcb"
      }
     },
     "652147845f0e4065828ce8cf7b56000e": {
      "model_module": "@jupyter-widgets/controls",
      "model_module_version": "1.5.0",
      "model_name": "DescriptionStyleModel",
      "state": {
       "description_width": ""
      }
     },
     "6578a6d3190e41abb82ad4a77e08792c": {
      "model_module": "@jupyter-widgets/base",
      "model_module_version": "1.2.0",
      "model_name": "LayoutModel",
      "state": {
       "width": "95px"
      }
     },
     "65aa7d7bea4d4468a8c7b4f32b3b8123": {
      "model_module": "@jupyter-widgets/controls",
      "model_module_version": "1.5.0",
      "model_name": "DescriptionStyleModel",
      "state": {
       "description_width": ""
      }
     },
     "6acef21c38a8435393ee397df2856372": {
      "model_module": "@jupyter-widgets/base",
      "model_module_version": "1.2.0",
      "model_name": "LayoutModel",
      "state": {
       "width": "95px"
      }
     },
     "6be945c8611149e485a56a9d737cdcb5": {
      "model_module": "@jupyter-widgets/base",
      "model_module_version": "1.2.0",
      "model_name": "LayoutModel",
      "state": {
       "max_width": "700px",
       "min_width": "700px"
      }
     },
     "6d534daf9cf64332a3080dd5b992cd86": {
      "model_module": "@jupyter-widgets/controls",
      "model_module_version": "1.5.0",
      "model_name": "HTMLModel",
      "state": {
       "layout": "IPY_MODEL_40e05fc56e0744559196d8bec834eea8",
       "style": "IPY_MODEL_a972ae69c960476999648a1916c3279b",
       "value": "<h5>Message</h5>"
      }
     },
     "6e81273f91704568ac9d8632222de95b": {
      "model_module": "@jupyter-widgets/base",
      "model_module_version": "1.2.0",
      "model_name": "LayoutModel",
      "state": {
       "width": "145px"
      }
     },
     "6e975b81bc5747a9806ee34d962eee8f": {
      "model_module": "@jupyter-widgets/base",
      "model_module_version": "1.2.0",
      "model_name": "LayoutModel",
      "state": {
       "width": "190px"
      }
     },
     "6eca8b45641740349897deef5630921e": {
      "model_module": "@jupyter-widgets/controls",
      "model_module_version": "1.5.0",
      "model_name": "DescriptionStyleModel",
      "state": {
       "description_width": ""
      }
     },
     "6ee2ecb39be64378b56937a5daed603e": {
      "model_module": "@jupyter-widgets/base",
      "model_module_version": "1.2.0",
      "model_name": "LayoutModel",
      "state": {
       "max_width": "700px",
       "min_width": "700px"
      }
     },
     "6f194e6ee7924acc90e3756e877e9e1e": {
      "model_module": "@jupyter-widgets/controls",
      "model_module_version": "1.5.0",
      "model_name": "HTMLModel",
      "state": {
       "layout": "IPY_MODEL_00a9860912904799ae63da22ea245998",
       "style": "IPY_MODEL_3641d2b518644df683e3d5621644dacb",
       "value": "ibm_perth"
      }
     },
     "6fabc459499c43788ed0bd037c40d2cd": {
      "model_module": "@jupyter-widgets/base",
      "model_module_version": "1.2.0",
      "model_name": "LayoutModel",
      "state": {
       "width": "70px"
      }
     },
     "6fde172477d441d497278f399565af05": {
      "model_module": "@jupyter-widgets/base",
      "model_module_version": "1.2.0",
      "model_name": "LayoutModel",
      "state": {
       "width": "95px"
      }
     },
     "705b67728e504ccc8ba78a591364e0e2": {
      "model_module": "@jupyter-widgets/controls",
      "model_module_version": "1.5.0",
      "model_name": "DescriptionStyleModel",
      "state": {
       "description_width": ""
      }
     },
     "7153835c2f994f57a4400a830f1a3892": {
      "model_module": "@jupyter-widgets/controls",
      "model_module_version": "1.5.0",
      "model_name": "HTMLModel",
      "state": {
       "layout": "IPY_MODEL_f50f1e39fb9b46cd9e85a99c028f9d41",
       "style": "IPY_MODEL_5034b7dbd7f94d968b212c88d2c597b1",
       "value": "-"
      }
     },
     "71a668e84e6c49d9a4352b71ef0754d8": {
      "model_module": "@jupyter-widgets/controls",
      "model_module_version": "1.5.0",
      "model_name": "HTMLModel",
      "state": {
       "layout": "IPY_MODEL_3b44f0d8c12f480383bfc7813bab6f25",
       "style": "IPY_MODEL_ad967cce1df440c496fdee843ba3054f",
       "value": "-"
      }
     },
     "738b164d08754040b55f7d59ffcb8a77": {
      "model_module": "@jupyter-widgets/base",
      "model_module_version": "1.2.0",
      "model_name": "LayoutModel",
      "state": {
       "margin": "0px 5px 0px 0px",
       "width": "32px"
      }
     },
     "767f067bb45a451caaad77365de12c20": {
      "model_module": "@jupyter-widgets/controls",
      "model_module_version": "1.5.0",
      "model_name": "DescriptionStyleModel",
      "state": {
       "description_width": ""
      }
     },
     "776e6d75777c4e259c533ab3594e58ef": {
      "model_module": "@jupyter-widgets/controls",
      "model_module_version": "1.5.0",
      "model_name": "DescriptionStyleModel",
      "state": {
       "description_width": ""
      }
     },
     "792c4d5ce5c04deabd0f022755d10644": {
      "model_module": "@jupyter-widgets/controls",
      "model_module_version": "1.5.0",
      "model_name": "HTMLModel",
      "state": {
       "layout": "IPY_MODEL_81708d97c7454c9a84039601daf96b99",
       "style": "IPY_MODEL_caa1628fbf38484ba4af28c1033dfff9",
       "value": "<h5>Queue</h5>"
      }
     },
     "797c72d7251444bf894e24d14da648fb": {
      "model_module": "@jupyter-widgets/controls",
      "model_module_version": "1.5.0",
      "model_name": "DescriptionStyleModel",
      "state": {
       "description_width": ""
      }
     },
     "7a1f9f23367b49ca8ad1f21a2d298bad": {
      "model_module": "@jupyter-widgets/controls",
      "model_module_version": "1.5.0",
      "model_name": "HTMLModel",
      "state": {
       "layout": "IPY_MODEL_90093b7fae3c4accb85938bab2387259",
       "style": "IPY_MODEL_34dfc79a521f4aefad43184552b7d930",
       "value": "ibm_perth"
      }
     },
     "7a30c727a34f43bbbab6701ab77e5562": {
      "model_module": "@jupyter-widgets/controls",
      "model_module_version": "1.5.0",
      "model_name": "HTMLModel",
      "state": {
       "layout": "IPY_MODEL_8f17d5af74454a3d99deeaca5c0ce18a",
       "style": "IPY_MODEL_83696beeb0b64021a614bd74f4207d00",
       "value": "<font style='color:#DC267F'>ERROR</font>"
      }
     },
     "7a4e1c97c77546738aef6ed4b526e8b5": {
      "model_module": "@jupyter-widgets/controls",
      "model_module_version": "1.5.0",
      "model_name": "HTMLModel",
      "state": {
       "layout": "IPY_MODEL_9fd67f4200474a35b9af1675df091158",
       "style": "IPY_MODEL_65aa7d7bea4d4468a8c7b4f32b3b8123",
       "value": "job has successfully run"
      }
     },
     "7bf83455919841c2bcb1d161bea4c73a": {
      "model_module": "@jupyter-widgets/base",
      "model_module_version": "1.2.0",
      "model_name": "LayoutModel",
      "state": {
       "width": "190px"
      }
     },
     "7d2223c6cc394c87a0c79955f2be6cd1": {
      "model_module": "@jupyter-widgets/base",
      "model_module_version": "1.2.0",
      "model_name": "LayoutModel",
      "state": {
       "grid_template_areas": "\n                                       \". . . . right \"\n                                        ",
       "grid_template_columns": "20% 20% 20% 20% 20%",
       "width": "100%"
      }
     },
     "7d6a9a7a57e647cf9fd73831f985964a": {
      "model_module": "@jupyter-widgets/controls",
      "model_module_version": "1.5.0",
      "model_name": "HTMLModel",
      "state": {
       "layout": "IPY_MODEL_98574bf84fac48c89c7f4099ff3cf9f3",
       "style": "IPY_MODEL_09cdc47dc6114757b26bcfbc18f36609",
       "value": "<h5>Job ID</h5>"
      }
     },
     "7d77e57f2c5a46d4bb936b073171578c": {
      "model_module": "@jupyter-widgets/controls",
      "model_module_version": "1.5.0",
      "model_name": "DescriptionStyleModel",
      "state": {
       "description_width": ""
      }
     },
     "7eac947e660f4215b893ef5631457ec7": {
      "model_module": "@jupyter-widgets/controls",
      "model_module_version": "1.5.0",
      "model_name": "HTMLModel",
      "state": {
       "layout": "IPY_MODEL_8da4652a12524c7cb1103c36921c50c7",
       "style": "IPY_MODEL_4f1641ba791f4fa495cd8d59a1730403",
       "value": "<font style='color:#34BC6E'>DONE</font>"
      }
     },
     "7ec9f47161284bbd9f79b81fc9ccd459": {
      "model_module": "@jupyter-widgets/base",
      "model_module_version": "1.2.0",
      "model_name": "LayoutModel",
      "state": {
       "overflow_x": "scroll"
      }
     },
     "7f7c464c815847968047d9b69bd07ada": {
      "model_module": "@jupyter-widgets/controls",
      "model_module_version": "1.5.0",
      "model_name": "DescriptionStyleModel",
      "state": {
       "description_width": ""
      }
     },
     "804197dca84b4dca9505d370055edce3": {
      "model_module": "@jupyter-widgets/controls",
      "model_module_version": "1.5.0",
      "model_name": "DescriptionStyleModel",
      "state": {
       "description_width": ""
      }
     },
     "8119b1d9d15840f2b0874963f4683944": {
      "model_module": "@jupyter-widgets/controls",
      "model_module_version": "1.5.0",
      "model_name": "ButtonModel",
      "state": {
       "icon": "close",
       "layout": "IPY_MODEL_4ba4bc89178f43b2833b3451960128e2",
       "style": "IPY_MODEL_30034d7b64ff48d1856fe3b9d3b22b4b"
      }
     },
     "8144d66d8e99469c81f565293d8f23d0": {
      "model_module": "@jupyter-widgets/base",
      "model_module_version": "1.2.0",
      "model_name": "LayoutModel",
      "state": {
       "width": "70px"
      }
     },
     "81708d97c7454c9a84039601daf96b99": {
      "model_module": "@jupyter-widgets/base",
      "model_module_version": "1.2.0",
      "model_name": "LayoutModel",
      "state": {
       "width": "70px"
      }
     },
     "819de7aca5e74efbbe9df0d2144093b0": {
      "model_module": "@jupyter-widgets/base",
      "model_module_version": "1.2.0",
      "model_name": "LayoutModel",
      "state": {
       "width": "70px"
      }
     },
     "8222c7094efa4e57b5dfa40dd86dd81e": {
      "model_module": "@jupyter-widgets/controls",
      "model_module_version": "1.5.0",
      "model_name": "DescriptionStyleModel",
      "state": {
       "description_width": ""
      }
     },
     "82657c96e0a84844947544514ae19e83": {
      "model_module": "@jupyter-widgets/controls",
      "model_module_version": "1.5.0",
      "model_name": "ButtonStyleModel",
      "state": {
       "button_color": "white"
      }
     },
     "827dcb5c392f440990c99a5140fda062": {
      "model_module": "@jupyter-widgets/controls",
      "model_module_version": "1.5.0",
      "model_name": "DescriptionStyleModel",
      "state": {
       "description_width": ""
      }
     },
     "82905af75175495c878fdc6dfcdacd2e": {
      "model_module": "@jupyter-widgets/controls",
      "model_module_version": "1.5.0",
      "model_name": "HTMLModel",
      "state": {
       "layout": "IPY_MODEL_4ab5eb1d9408403a93bc8b4c3df14eb2",
       "style": "IPY_MODEL_504fa81ddca74dd1a0f3ec8799448d24",
       "value": "<font style='color:#DC267F'>ERROR</font>"
      }
     },
     "83696beeb0b64021a614bd74f4207d00": {
      "model_module": "@jupyter-widgets/controls",
      "model_module_version": "1.5.0",
      "model_name": "DescriptionStyleModel",
      "state": {
       "description_width": ""
      }
     },
     "8382e0436c014d11be67614b20fc8c39": {
      "model_module": "@jupyter-widgets/base",
      "model_module_version": "1.2.0",
      "model_name": "LayoutModel",
      "state": {
       "width": "95px"
      }
     },
     "83ad5d22569f4a6aa45f98c4ef9ed803": {
      "model_module": "@jupyter-widgets/controls",
      "model_module_version": "1.5.0",
      "model_name": "DescriptionStyleModel",
      "state": {
       "description_width": ""
      }
     },
     "83f8c86755a444eaa31f911d8143eaf8": {
      "model_module": "@jupyter-widgets/controls",
      "model_module_version": "1.5.0",
      "model_name": "HTMLModel",
      "state": {
       "layout": "IPY_MODEL_3f8db5eda94a42a2bb5b75250ce3b039",
       "style": "IPY_MODEL_804197dca84b4dca9505d370055edce3",
       "value": "job has successfully run"
      }
     },
     "84de4e6b6a584a7ab2b7b54f62435494": {
      "model_module": "@jupyter-widgets/base",
      "model_module_version": "1.2.0",
      "model_name": "LayoutModel",
      "state": {
       "margin": "0px 5px 0px 0px",
       "width": "32px"
      }
     },
     "85dc1211bc7d46038ee248d4cd140f4d": {
      "model_module": "@jupyter-widgets/controls",
      "model_module_version": "1.5.0",
      "model_name": "ButtonModel",
      "state": {
       "icon": "close",
       "layout": "IPY_MODEL_e941757a012b478fb1674d680d169a1c",
       "style": "IPY_MODEL_9bb20fe9ff144686b18431b7f706ebe9"
      }
     },
     "86d37bac40494374a23df4fa0894ce52": {
      "model_module": "@jupyter-widgets/controls",
      "model_module_version": "1.5.0",
      "model_name": "HBoxModel",
      "state": {
       "children": [
        "IPY_MODEL_3f9f919e58aa42ae966c1e3e912beb5b",
        "IPY_MODEL_639be107002c490a9c6acd6e68553c48",
        "IPY_MODEL_151d22596d054b86b71a7612dda46642",
        "IPY_MODEL_b660a8ed4c2c4d7097868947d35b1d46",
        "IPY_MODEL_b029e8bb31be40d1a222e9c08b437401",
        "IPY_MODEL_25d5ca1ed823481c9313fb008a8f6e8e"
       ],
       "layout": "IPY_MODEL_07ea47584a3f45c0a0da48bced8b34cb"
      }
     },
     "8bad8106215f45488a5137187b6b3801": {
      "model_module": "@jupyter-widgets/controls",
      "model_module_version": "1.5.0",
      "model_name": "DescriptionStyleModel",
      "state": {
       "description_width": ""
      }
     },
     "8d59a995ccf840be9159ed5255dbfbe2": {
      "model_module": "@jupyter-widgets/controls",
      "model_module_version": "1.5.0",
      "model_name": "HTMLModel",
      "state": {
       "layout": "IPY_MODEL_b87f9b6f140141b9badabbaa88bf4307",
       "style": "IPY_MODEL_41decd5a25ef41a6923669b74e8e5094",
       "value": "<p style='font-family: IBM Plex Sans, Arial, Helvetica, sans-serif; font-size: 20px; font-weight: medium;'>Circuit Properties</p>"
      }
     },
     "8da4652a12524c7cb1103c36921c50c7": {
      "model_module": "@jupyter-widgets/base",
      "model_module_version": "1.2.0",
      "model_name": "LayoutModel",
      "state": {
       "width": "95px"
      }
     },
     "8e0dfb428dc540e5b5edbb757675ce04": {
      "model_module": "@jupyter-widgets/controls",
      "model_module_version": "1.5.0",
      "model_name": "DescriptionStyleModel",
      "state": {
       "description_width": ""
      }
     },
     "8ef6ff3ddaf54557bfbd378984db8457": {
      "model_module": "@jupyter-widgets/controls",
      "model_module_version": "1.5.0",
      "model_name": "ButtonModel",
      "state": {
       "icon": "close",
       "layout": "IPY_MODEL_b98ef0dfcc3649da8a684614f84eb703",
       "style": "IPY_MODEL_231f3ea53adf4566b7697426f6afddfb"
      }
     },
     "8f17d5af74454a3d99deeaca5c0ce18a": {
      "model_module": "@jupyter-widgets/base",
      "model_module_version": "1.2.0",
      "model_name": "LayoutModel",
      "state": {
       "width": "95px"
      }
     },
     "8f5f91e90966490cbf9de2da8b9136b7": {
      "model_module": "@jupyter-widgets/controls",
      "model_module_version": "1.5.0",
      "model_name": "HTMLModel",
      "state": {
       "layout": "IPY_MODEL_ba6ca3e841f6424b9eadc2dec452d866",
       "style": "IPY_MODEL_797c72d7251444bf894e24d14da648fb",
       "value": "job has successfully run"
      }
     },
     "8f7c2611e51847bab3a5d824cdcdf3ec": {
      "model_module": "@jupyter-widgets/base",
      "model_module_version": "1.2.0",
      "model_name": "LayoutModel",
      "state": {
       "width": "70px"
      }
     },
     "90093b7fae3c4accb85938bab2387259": {
      "model_module": "@jupyter-widgets/base",
      "model_module_version": "1.2.0",
      "model_name": "LayoutModel",
      "state": {
       "width": "145px"
      }
     },
     "9025b6599f5d4d9a97237c2d3c5a6cfc": {
      "model_module": "@jupyter-widgets/base",
      "model_module_version": "1.2.0",
      "model_name": "LayoutModel",
      "state": {
       "width": "70px"
      }
     },
     "9072631107e2449c986c400ee8db5b31": {
      "model_module": "@jupyter-widgets/controls",
      "model_module_version": "1.5.0",
      "model_name": "HTMLModel",
      "state": {
       "layout": "IPY_MODEL_2cdc1920475b46e1b2158c7445a67d01",
       "style": "IPY_MODEL_40a7a41535cc436887a16f639f52d0a1",
       "value": "job incurred error"
      }
     },
     "914862b7f80741cb9647122f57a818cf": {
      "model_module": "@jupyter-widgets/controls",
      "model_module_version": "1.5.0",
      "model_name": "DescriptionStyleModel",
      "state": {
       "description_width": ""
      }
     },
     "92f78c5db3654fcdb3329bd39b1f859b": {
      "model_module": "@jupyter-widgets/base",
      "model_module_version": "1.2.0",
      "model_name": "LayoutModel",
      "state": {
       "margin": "0px 5px 0px 0px",
       "width": "32px"
      }
     },
     "93fa2743a5e94de89eceafd7625ca814": {
      "model_module": "@jupyter-widgets/base",
      "model_module_version": "1.2.0",
      "model_name": "LayoutModel",
      "state": {
       "max_width": "700px",
       "min_width": "700px"
      }
     },
     "949ba00822ce4768a5a04bb25856ef19": {
      "model_module": "@jupyter-widgets/controls",
      "model_module_version": "1.5.0",
      "model_name": "HTMLModel",
      "state": {
       "layout": "IPY_MODEL_97ac55b45762489ea72ed366c5489152",
       "style": "IPY_MODEL_a11855bc7d424b5796ba6f26797100b9",
       "value": "634ad0d392d40469d5d92b3f"
      }
     },
     "949fbc01d0bd4bdc875b053f52456a92": {
      "model_module": "@jupyter-widgets/controls",
      "model_module_version": "1.5.0",
      "model_name": "HTMLModel",
      "state": {
       "layout": "IPY_MODEL_43106455beae463a85ab861c1e219d4d",
       "style": "IPY_MODEL_bf67c27189c24250bb294ffe083e82d9",
       "value": "634acd550a4a0c8da9d02dd1"
      }
     },
     "94d8c91d46894f30acb7d050ed4fd3a7": {
      "model_module": "@jupyter-widgets/base",
      "model_module_version": "1.2.0",
      "model_name": "LayoutModel",
      "state": {
       "width": "145px"
      }
     },
     "95ed683e7331489398f299233fc8df90": {
      "model_module": "@jupyter-widgets/base",
      "model_module_version": "1.2.0",
      "model_name": "LayoutModel",
      "state": {
       "max_width": "700px",
       "min_width": "700px"
      }
     },
     "97ac55b45762489ea72ed366c5489152": {
      "model_module": "@jupyter-widgets/base",
      "model_module_version": "1.2.0",
      "model_name": "LayoutModel",
      "state": {
       "width": "190px"
      }
     },
     "97b75951507f4793a2697bf417b54c4c": {
      "model_module": "@jupyter-widgets/base",
      "model_module_version": "1.2.0",
      "model_name": "LayoutModel",
      "state": {
       "max_width": "700px",
       "min_width": "700px"
      }
     },
     "98574bf84fac48c89c7f4099ff3cf9f3": {
      "model_module": "@jupyter-widgets/base",
      "model_module_version": "1.2.0",
      "model_name": "LayoutModel",
      "state": {
       "width": "190px"
      }
     },
     "98aaf57b06084ccdb391225675245c2e": {
      "model_module": "@jupyter-widgets/base",
      "model_module_version": "1.2.0",
      "model_name": "LayoutModel",
      "state": {
       "max_width": "700px",
       "min_width": "700px"
      }
     },
     "98fd2b4c49ea4b778b091f527fa447b4": {
      "model_module": "@jupyter-widgets/controls",
      "model_module_version": "1.5.0",
      "model_name": "HTMLModel",
      "state": {
       "layout": "IPY_MODEL_afeb4fc14d0e407a9b3b67380b0d40fb",
       "style": "IPY_MODEL_df73506eef644f1a905662a6ecde7c62",
       "value": "634ad3f84bc4b81af99eb72f"
      }
     },
     "9a300d635824494cb45b84e9c4f0a474": {
      "model_module": "@jupyter-widgets/base",
      "model_module_version": "1.2.0",
      "model_name": "LayoutModel",
      "state": {
       "overflow_x": "scroll"
      }
     },
     "9a30e1e4ed4147e3a845657b56409958": {
      "model_module": "@jupyter-widgets/controls",
      "model_module_version": "1.5.0",
      "model_name": "ButtonModel",
      "state": {
       "icon": "close",
       "layout": "IPY_MODEL_738b164d08754040b55f7d59ffcb8a77",
       "style": "IPY_MODEL_cc09735a07384386bb3c426cd704b550"
      }
     },
     "9ba9692635494f99a2404968930c8e9e": {
      "model_module": "@jupyter-widgets/base",
      "model_module_version": "1.2.0",
      "model_name": "LayoutModel",
      "state": {
       "width": "145px"
      }
     },
     "9bb20fe9ff144686b18431b7f706ebe9": {
      "model_module": "@jupyter-widgets/controls",
      "model_module_version": "1.5.0",
      "model_name": "ButtonStyleModel",
      "state": {
       "button_color": "white"
      }
     },
     "9e0c82bfdda4443eb74da109ad0a0d8e": {
      "model_module": "@jupyter-widgets/base",
      "model_module_version": "1.2.0",
      "model_name": "LayoutModel",
      "state": {
       "max_width": "700px",
       "min_width": "700px"
      }
     },
     "9f6d6ae49bd944edb397e538ee5c9fd3": {
      "model_module": "@jupyter-widgets/controls",
      "model_module_version": "1.5.0",
      "model_name": "DescriptionStyleModel",
      "state": {
       "description_width": ""
      }
     },
     "9fd67f4200474a35b9af1675df091158": {
      "model_module": "@jupyter-widgets/base",
      "model_module_version": "1.2.0",
      "model_name": "LayoutModel",
      "state": {
       "overflow_x": "scroll"
      }
     },
     "a03650b58e8e4aa9a91a5b69018ceaf2": {
      "model_module": "@jupyter-widgets/controls",
      "model_module_version": "1.5.0",
      "model_name": "HTMLModel",
      "state": {
       "layout": "IPY_MODEL_0f0da2449d8c4e638418c96134d86eef",
       "style": "IPY_MODEL_8222c7094efa4e57b5dfa40dd86dd81e",
       "value": "job incurred error"
      }
     },
     "a04fbfc2311a4abca7d286e732c5b484": {
      "model_module": "@jupyter-widgets/controls",
      "model_module_version": "1.5.0",
      "model_name": "DescriptionStyleModel",
      "state": {
       "description_width": ""
      }
     },
     "a11855bc7d424b5796ba6f26797100b9": {
      "model_module": "@jupyter-widgets/controls",
      "model_module_version": "1.5.0",
      "model_name": "DescriptionStyleModel",
      "state": {
       "description_width": ""
      }
     },
     "a1fbfd1e91a0407fb0f4ac316e0ddc1e": {
      "model_module": "@jupyter-widgets/base",
      "model_module_version": "1.2.0",
      "model_name": "LayoutModel",
      "state": {
       "width": "70px"
      }
     },
     "a2f70b977fea4513b9035a8197baab3f": {
      "model_module": "@jupyter-widgets/controls",
      "model_module_version": "1.5.0",
      "model_name": "HTMLModel",
      "state": {
       "layout": "IPY_MODEL_a1fbfd1e91a0407fb0f4ac316e0ddc1e",
       "style": "IPY_MODEL_7d77e57f2c5a46d4bb936b073171578c",
       "value": "-"
      }
     },
     "a472747d2886485ca223cc25952e6b1b": {
      "model_module": "@jupyter-widgets/base",
      "model_module_version": "1.2.0",
      "model_name": "LayoutModel",
      "state": {
       "width": "95px"
      }
     },
     "a4d7a298a96b41f8b5f884755a1e38c9": {
      "model_module": "@jupyter-widgets/controls",
      "model_module_version": "1.5.0",
      "model_name": "DescriptionStyleModel",
      "state": {
       "description_width": ""
      }
     },
     "a58e6ecb9e814fe9a2bff07b0e2a52fe": {
      "model_module": "@jupyter-widgets/base",
      "model_module_version": "1.2.0",
      "model_name": "LayoutModel",
      "state": {
       "width": "190px"
      }
     },
     "a60a3f64c9174c5e84dac82b4b2067cf": {
      "model_module": "@jupyter-widgets/controls",
      "model_module_version": "1.5.0",
      "model_name": "ButtonStyleModel",
      "state": {
       "button_color": "white"
      }
     },
     "a615add66a8142c198b9a90abd7a922a": {
      "model_module": "@jupyter-widgets/base",
      "model_module_version": "1.2.0",
      "model_name": "LayoutModel",
      "state": {
       "width": "95px"
      }
     },
     "a6e017b5f83344b599e7e713e2e335a7": {
      "model_module": "@jupyter-widgets/controls",
      "model_module_version": "1.5.0",
      "model_name": "HTMLModel",
      "state": {
       "layout": "IPY_MODEL_5ee5436027cc46d497d09be262e02f9c",
       "style": "IPY_MODEL_eed45dd26a3f40e9ae3f530b5e4cd0dc",
       "value": "ibm_perth"
      }
     },
     "a82ae72ff8214c1385ee4abaae3f185c": {
      "model_module": "@jupyter-widgets/controls",
      "model_module_version": "1.5.0",
      "model_name": "HTMLModel",
      "state": {
       "layout": "IPY_MODEL_8f7c2611e51847bab3a5d824cdcdf3ec",
       "style": "IPY_MODEL_f8ae27b009e349ec8c27f7ed886b1229",
       "value": "-"
      }
     },
     "a88cf63df17f448489d6be6a017480a7": {
      "model_module": "@jupyter-widgets/controls",
      "model_module_version": "1.5.0",
      "model_name": "DescriptionStyleModel",
      "state": {
       "description_width": ""
      }
     },
     "a8b4e7e574654c97b7faafa45e03617f": {
      "model_module": "@jupyter-widgets/controls",
      "model_module_version": "1.5.0",
      "model_name": "DescriptionStyleModel",
      "state": {
       "description_width": ""
      }
     },
     "a95a69d1e97d49ff869a2522abdb187c": {
      "model_module": "@jupyter-widgets/controls",
      "model_module_version": "1.5.0",
      "model_name": "HTMLModel",
      "state": {
       "layout": "IPY_MODEL_26eb715265554d688e323b119ae9c1e9",
       "style": "IPY_MODEL_c1434cd8ee02407893f356cb9af02fe8",
       "value": "ibm_perth"
      }
     },
     "a972ae69c960476999648a1916c3279b": {
      "model_module": "@jupyter-widgets/controls",
      "model_module_version": "1.5.0",
      "model_name": "DescriptionStyleModel",
      "state": {
       "description_width": ""
      }
     },
     "a9804e7b34d642c3abcdb20f1d815aa2": {
      "model_module": "@jupyter-widgets/base",
      "model_module_version": "1.2.0",
      "model_name": "LayoutModel",
      "state": {
       "margin": "0px 5px 0px 0px",
       "width": "32px"
      }
     },
     "ab180d126289497f941160d42a8d8827": {
      "model_module": "@jupyter-widgets/controls",
      "model_module_version": "1.5.0",
      "model_name": "HBoxModel",
      "state": {
       "children": [
        "IPY_MODEL_9a30e1e4ed4147e3a845657b56409958",
        "IPY_MODEL_e963341d8611476a8965596f3145d4e5",
        "IPY_MODEL_5ee50bd28a294975a09c8f0635815048",
        "IPY_MODEL_efcb8b62288548fd88da5783f590c98a",
        "IPY_MODEL_71a668e84e6c49d9a4352b71ef0754d8",
        "IPY_MODEL_7a4e1c97c77546738aef6ed4b526e8b5"
       ],
       "layout": "IPY_MODEL_afae426f67924eb5a8a66d33c0aa045c"
      }
     },
     "ab8339f475e54c0598b7835d714c3b5b": {
      "model_module": "@jupyter-widgets/controls",
      "model_module_version": "1.5.0",
      "model_name": "DescriptionStyleModel",
      "state": {
       "description_width": ""
      }
     },
     "abbdbd34ce4c4143ac6270df217456da": {
      "model_module": "@jupyter-widgets/controls",
      "model_module_version": "1.5.0",
      "model_name": "HTMLModel",
      "state": {
       "layout": "IPY_MODEL_4fbaba12d3ca4c58b536617c34758af4",
       "style": "IPY_MODEL_8bad8106215f45488a5137187b6b3801",
       "value": "<font style='color:#34BC6E'>DONE</font>"
      }
     },
     "ad967cce1df440c496fdee843ba3054f": {
      "model_module": "@jupyter-widgets/controls",
      "model_module_version": "1.5.0",
      "model_name": "DescriptionStyleModel",
      "state": {
       "description_width": ""
      }
     },
     "afae426f67924eb5a8a66d33c0aa045c": {
      "model_module": "@jupyter-widgets/base",
      "model_module_version": "1.2.0",
      "model_name": "LayoutModel",
      "state": {
       "max_width": "700px",
       "min_width": "700px"
      }
     },
     "afeb4fc14d0e407a9b3b67380b0d40fb": {
      "model_module": "@jupyter-widgets/base",
      "model_module_version": "1.2.0",
      "model_name": "LayoutModel",
      "state": {
       "width": "190px"
      }
     },
     "b007a1aebb0d43098d07f3f2aec964d3": {
      "model_module": "@jupyter-widgets/base",
      "model_module_version": "1.2.0",
      "model_name": "LayoutModel",
      "state": {
       "max_width": "700px",
       "min_width": "700px"
      }
     },
     "b029e8bb31be40d1a222e9c08b437401": {
      "model_module": "@jupyter-widgets/controls",
      "model_module_version": "1.5.0",
      "model_name": "HTMLModel",
      "state": {
       "layout": "IPY_MODEL_cff13cbad6134f778a6e5bd466d11c2c",
       "style": "IPY_MODEL_776e6d75777c4e259c533ab3594e58ef",
       "value": "-"
      }
     },
     "b142669fca5240e9bcbb4980145c3177": {
      "model_module": "@jupyter-widgets/controls",
      "model_module_version": "1.5.0",
      "model_name": "ButtonStyleModel",
      "state": {
       "button_color": "white"
      }
     },
     "b1f706d30fc241d094b3ff03bb245cfc": {
      "model_module": "@jupyter-widgets/controls",
      "model_module_version": "1.5.0",
      "model_name": "HTMLModel",
      "state": {
       "layout": "IPY_MODEL_94d8c91d46894f30acb7d050ed4fd3a7",
       "style": "IPY_MODEL_52f9bbaa89674c19b657c1fbf39a3705",
       "value": "ibm_perth"
      }
     },
     "b272a88aed5942ea89dd0d6b66e4a070": {
      "model_module": "@jupyter-widgets/base",
      "model_module_version": "1.2.0",
      "model_name": "LayoutModel",
      "state": {
       "grid_area": "right",
       "padding": "0px 0px 0px 0px",
       "width": "70px"
      }
     },
     "b3298eb76ee44dff9443a681b3f06b11": {
      "model_module": "@jupyter-widgets/controls",
      "model_module_version": "1.5.0",
      "model_name": "HTMLModel",
      "state": {
       "layout": "IPY_MODEL_a58e6ecb9e814fe9a2bff07b0e2a52fe",
       "style": "IPY_MODEL_ff252316cbaf4a139415fb20b9a12274",
       "value": "634ac1390a4a0c5788d02da1"
      }
     },
     "b39ca75315f24e71a5dfde71af88d2d9": {
      "model_module": "@jupyter-widgets/base",
      "model_module_version": "1.2.0",
      "model_name": "LayoutModel",
      "state": {
       "width": "70px"
      }
     },
     "b3d6839b8f4947e59ce6c7105a5a1f91": {
      "model_module": "@jupyter-widgets/controls",
      "model_module_version": "1.5.0",
      "model_name": "DescriptionStyleModel",
      "state": {
       "description_width": ""
      }
     },
     "b3eea2cb330543828d13895038ae0812": {
      "model_module": "@jupyter-widgets/controls",
      "model_module_version": "1.5.0",
      "model_name": "DescriptionStyleModel",
      "state": {
       "description_width": ""
      }
     },
     "b42875da31254c3187dbad27dcc222c6": {
      "model_module": "@jupyter-widgets/base",
      "model_module_version": "1.2.0",
      "model_name": "LayoutModel",
      "state": {
       "overflow_x": "scroll"
      }
     },
     "b4fe8a6b2c2945e4b29b9266849e6484": {
      "model_module": "@jupyter-widgets/controls",
      "model_module_version": "1.5.0",
      "model_name": "DescriptionStyleModel",
      "state": {
       "description_width": ""
      }
     },
     "b5a50c057c534f86901c5c54a6e81d01": {
      "model_module": "@jupyter-widgets/base",
      "model_module_version": "1.2.0",
      "model_name": "LayoutModel",
      "state": {
       "width": "145px"
      }
     },
     "b65f1a3d6ed84ccfbdd34e1c5d776a79": {
      "model_module": "@jupyter-widgets/base",
      "model_module_version": "1.2.0",
      "model_name": "LayoutModel",
      "state": {
       "width": "145px"
      }
     },
     "b660a8ed4c2c4d7097868947d35b1d46": {
      "model_module": "@jupyter-widgets/controls",
      "model_module_version": "1.5.0",
      "model_name": "HTMLModel",
      "state": {
       "layout": "IPY_MODEL_6578a6d3190e41abb82ad4a77e08792c",
       "style": "IPY_MODEL_83ad5d22569f4a6aa45f98c4ef9ed803",
       "value": "<font style='color:#34BC6E'>DONE</font>"
      }
     },
     "b6d76867f0e44606a97daa7b5cccf4e0": {
      "model_module": "@jupyter-widgets/controls",
      "model_module_version": "1.5.0",
      "model_name": "DescriptionStyleModel",
      "state": {
       "description_width": ""
      }
     },
     "b75ec63f4fe34611824a58ad565da2c0": {
      "model_module": "@jupyter-widgets/controls",
      "model_module_version": "1.5.0",
      "model_name": "HBoxModel",
      "state": {
       "children": [
        "IPY_MODEL_26f413b618d5459494386fe5a74636a3",
        "IPY_MODEL_1a763ce1a41b47368e70b6a92de46684",
        "IPY_MODEL_0f765e041b1e442b9eff7a917f0e5897",
        "IPY_MODEL_7a30c727a34f43bbbab6701ab77e5562",
        "IPY_MODEL_ec39a83676254c6ba75598d07e42b0ad",
        "IPY_MODEL_9072631107e2449c986c400ee8db5b31"
       ],
       "layout": "IPY_MODEL_9e0c82bfdda4443eb74da109ad0a0d8e"
      }
     },
     "b785c998dac94db8b779098ed38f51ac": {
      "model_module": "@jupyter-widgets/controls",
      "model_module_version": "1.5.0",
      "model_name": "HTMLModel",
      "state": {
       "layout": "IPY_MODEL_db132f2936984c8da99ccd42453185fb",
       "style": "IPY_MODEL_1b222a38d0ec4dd4a80682c994f96ccc",
       "value": "job has successfully run"
      }
     },
     "b7fdf2750dcd49f699bfb695e7531aaf": {
      "model_module": "@jupyter-widgets/base",
      "model_module_version": "1.2.0",
      "model_name": "LayoutModel",
      "state": {
       "width": "95px"
      }
     },
     "b87f9b6f140141b9badabbaa88bf4307": {
      "model_module": "@jupyter-widgets/base",
      "model_module_version": "1.2.0",
      "model_name": "LayoutModel",
      "state": {
       "margin": "0px 0px 10px 0px"
      }
     },
     "b8c8dd1aeab348238e084c3fb86367ce": {
      "model_module": "@jupyter-widgets/base",
      "model_module_version": "1.2.0",
      "model_name": "LayoutModel",
      "state": {
       "width": "190px"
      }
     },
     "b92bbdfe13244384b6cef7bc962f42ef": {
      "model_module": "@jupyter-widgets/controls",
      "model_module_version": "1.5.0",
      "model_name": "HBoxModel",
      "state": {
       "children": [
        "IPY_MODEL_7d6a9a7a57e647cf9fd73831f985964a",
        "IPY_MODEL_18a66966fa5042849d12ce31e154765c",
        "IPY_MODEL_f4773f69956f403fb2ea5cefb671a2d4",
        "IPY_MODEL_792c4d5ce5c04deabd0f022755d10644",
        "IPY_MODEL_6d534daf9cf64332a3080dd5b992cd86"
       ],
       "layout": "IPY_MODEL_c63a4beca6c24c62b43d50c58e091d6f"
      }
     },
     "b97a525131a144feb3ad673124d3607f": {
      "model_module": "@jupyter-widgets/controls",
      "model_module_version": "1.5.0",
      "model_name": "ButtonModel",
      "state": {
       "icon": "close",
       "layout": "IPY_MODEL_92f78c5db3654fcdb3329bd39b1f859b",
       "style": "IPY_MODEL_a60a3f64c9174c5e84dac82b4b2067cf"
      }
     },
     "b98ef0dfcc3649da8a684614f84eb703": {
      "model_module": "@jupyter-widgets/base",
      "model_module_version": "1.2.0",
      "model_name": "LayoutModel",
      "state": {
       "margin": "0px 5px 0px 0px",
       "width": "32px"
      }
     },
     "ba6ca3e841f6424b9eadc2dec452d866": {
      "model_module": "@jupyter-widgets/base",
      "model_module_version": "1.2.0",
      "model_name": "LayoutModel",
      "state": {
       "overflow_x": "scroll"
      }
     },
     "bde3e76e6d374157add117b4f3293cbe": {
      "model_module": "@jupyter-widgets/controls",
      "model_module_version": "1.5.0",
      "model_name": "HTMLModel",
      "state": {
       "layout": "IPY_MODEL_0b5f8c0b4837458b946e137c35a03fe0",
       "style": "IPY_MODEL_f43cdf6887254e89843735dcd2c136cf",
       "value": "job has successfully run"
      }
     },
     "be06ca05bd7e4b60999dd8a6f9eaa59c": {
      "model_module": "@jupyter-widgets/controls",
      "model_module_version": "1.5.0",
      "model_name": "HBoxModel",
      "state": {
       "children": [
        "IPY_MODEL_85dc1211bc7d46038ee248d4cd140f4d",
        "IPY_MODEL_fdb9af2404e7474e9cd783d51adce7f6",
        "IPY_MODEL_f007b9288a454bed93d0d2d57f210326",
        "IPY_MODEL_82905af75175495c878fdc6dfcdacd2e",
        "IPY_MODEL_e2d2b37d838f4d6c8b31ef63c7b443fd",
        "IPY_MODEL_35801280fce44bacac86d8a7d844ded8"
       ],
       "layout": "IPY_MODEL_d4abdef4c04c41fa8fed4faee6e904e3"
      }
     },
     "bf63d8059b7345d3a3329c97ac7593bf": {
      "model_module": "@jupyter-widgets/controls",
      "model_module_version": "1.5.0",
      "model_name": "DescriptionStyleModel",
      "state": {
       "description_width": ""
      }
     },
     "bf67c27189c24250bb294ffe083e82d9": {
      "model_module": "@jupyter-widgets/controls",
      "model_module_version": "1.5.0",
      "model_name": "DescriptionStyleModel",
      "state": {
       "description_width": ""
      }
     },
     "c1434cd8ee02407893f356cb9af02fe8": {
      "model_module": "@jupyter-widgets/controls",
      "model_module_version": "1.5.0",
      "model_name": "DescriptionStyleModel",
      "state": {
       "description_width": ""
      }
     },
     "c28c9a8774a24bf8839676b5facf1105": {
      "model_module": "@jupyter-widgets/controls",
      "model_module_version": "1.5.0",
      "model_name": "ButtonStyleModel",
      "state": {
       "button_color": "white"
      }
     },
     "c2a6f51e2d8b4cc3a869ee20b429e0cc": {
      "model_module": "@jupyter-widgets/controls",
      "model_module_version": "1.5.0",
      "model_name": "HBoxModel",
      "state": {
       "children": [
        "IPY_MODEL_8ef6ff3ddaf54557bfbd378984db8457",
        "IPY_MODEL_62865dfab2f741a0ac74aa686d5f15f7",
        "IPY_MODEL_0878cf9e1fb845ff9eeaee5cca70f68e",
        "IPY_MODEL_304e11c0b18644c08d4d893dae3b6b86",
        "IPY_MODEL_cc538ecdc8bc42938f44246413e91efc",
        "IPY_MODEL_3df7b2a9c3fa410694dc27f95a81731a"
       ],
       "layout": "IPY_MODEL_97b75951507f4793a2697bf417b54c4c"
      }
     },
     "c5df80aa226f4e7881b1bb5187dc54fb": {
      "model_module": "@jupyter-widgets/controls",
      "model_module_version": "1.5.0",
      "model_name": "DescriptionStyleModel",
      "state": {
       "description_width": ""
      }
     },
     "c63a4beca6c24c62b43d50c58e091d6f": {
      "model_module": "@jupyter-widgets/base",
      "model_module_version": "1.2.0",
      "model_name": "LayoutModel",
      "state": {
       "margin": "0px 0px 0px 37px",
       "width": "600px"
      }
     },
     "c7accfe7f4284d2abbae608fee2edf75": {
      "model_module": "@jupyter-widgets/controls",
      "model_module_version": "1.5.0",
      "model_name": "ButtonModel",
      "state": {
       "icon": "close",
       "layout": "IPY_MODEL_1968f4424f604a8a977c9d044cddd7e9",
       "style": "IPY_MODEL_e8fec07edb4643d39d7a63b467103903"
      }
     },
     "c89c9bdd2ca5424a9a4bed9f3f6e9a4c": {
      "model_module": "@jupyter-widgets/base",
      "model_module_version": "1.2.0",
      "model_name": "LayoutModel",
      "state": {
       "width": "95px"
      }
     },
     "c9311ec23b6240e2b6c645eda87577f0": {
      "model_module": "@jupyter-widgets/controls",
      "model_module_version": "1.5.0",
      "model_name": "DescriptionStyleModel",
      "state": {
       "description_width": ""
      }
     },
     "caa1628fbf38484ba4af28c1033dfff9": {
      "model_module": "@jupyter-widgets/controls",
      "model_module_version": "1.5.0",
      "model_name": "DescriptionStyleModel",
      "state": {
       "description_width": ""
      }
     },
     "cac054834f054e3398410ca3e5c0512c": {
      "model_module": "@jupyter-widgets/controls",
      "model_module_version": "1.5.0",
      "model_name": "HTMLModel",
      "state": {
       "layout": "IPY_MODEL_1d6efa1a1c2c4ea686db2ca1eaf227f6",
       "style": "IPY_MODEL_e12a3cdd3f754cd787f3d89ba2f73821",
       "value": "<font style='color:#34BC6E'>DONE</font>"
      }
     },
     "cb42d062cbc1411ca9a881f6deaba5fc": {
      "model_module": "@jupyter-widgets/controls",
      "model_module_version": "1.5.0",
      "model_name": "HBoxModel",
      "state": {
       "children": [
        "IPY_MODEL_c7accfe7f4284d2abbae608fee2edf75",
        "IPY_MODEL_949ba00822ce4768a5a04bb25856ef19",
        "IPY_MODEL_a95a69d1e97d49ff869a2522abdb187c",
        "IPY_MODEL_d591276113714e2287b0c5dd3b7f19f5",
        "IPY_MODEL_d0af0366cbc847da898bf527bfe40f84",
        "IPY_MODEL_bde3e76e6d374157add117b4f3293cbe"
       ],
       "layout": "IPY_MODEL_0512a6a176f74574aae10145cbfa96f5"
      }
     },
     "cc09735a07384386bb3c426cd704b550": {
      "model_module": "@jupyter-widgets/controls",
      "model_module_version": "1.5.0",
      "model_name": "ButtonStyleModel",
      "state": {
       "button_color": "white"
      }
     },
     "cc538ecdc8bc42938f44246413e91efc": {
      "model_module": "@jupyter-widgets/controls",
      "model_module_version": "1.5.0",
      "model_name": "HTMLModel",
      "state": {
       "layout": "IPY_MODEL_8144d66d8e99469c81f565293d8f23d0",
       "style": "IPY_MODEL_d69db70791224f69a51bdf0c09387475",
       "value": "-"
      }
     },
     "cda2c6622c584c1ea7f77874d833b7ea": {
      "model_module": "@jupyter-widgets/controls",
      "model_module_version": "1.5.0",
      "model_name": "DescriptionStyleModel",
      "state": {
       "description_width": ""
      }
     },
     "ce403c0f8441445cbc98143c41896253": {
      "model_module": "@jupyter-widgets/controls",
      "model_module_version": "1.5.0",
      "model_name": "HBoxModel",
      "state": {
       "children": [
        "IPY_MODEL_8119b1d9d15840f2b0874963f4683944",
        "IPY_MODEL_dc6371be76984a2f9a8b27e955b710dc",
        "IPY_MODEL_6f194e6ee7924acc90e3756e877e9e1e",
        "IPY_MODEL_abbdbd34ce4c4143ac6270df217456da",
        "IPY_MODEL_a2f70b977fea4513b9035a8197baab3f",
        "IPY_MODEL_8f5f91e90966490cbf9de2da8b9136b7"
       ],
       "layout": "IPY_MODEL_95ed683e7331489398f299233fc8df90"
      }
     },
     "cff13cbad6134f778a6e5bd466d11c2c": {
      "model_module": "@jupyter-widgets/base",
      "model_module_version": "1.2.0",
      "model_name": "LayoutModel",
      "state": {
       "width": "70px"
      }
     },
     "d0af0366cbc847da898bf527bfe40f84": {
      "model_module": "@jupyter-widgets/controls",
      "model_module_version": "1.5.0",
      "model_name": "HTMLModel",
      "state": {
       "layout": "IPY_MODEL_b39ca75315f24e71a5dfde71af88d2d9",
       "style": "IPY_MODEL_a8b4e7e574654c97b7faafa45e03617f",
       "value": "-"
      }
     },
     "d4abdef4c04c41fa8fed4faee6e904e3": {
      "model_module": "@jupyter-widgets/base",
      "model_module_version": "1.2.0",
      "model_name": "LayoutModel",
      "state": {
       "max_width": "700px",
       "min_width": "700px"
      }
     },
     "d591276113714e2287b0c5dd3b7f19f5": {
      "model_module": "@jupyter-widgets/controls",
      "model_module_version": "1.5.0",
      "model_name": "HTMLModel",
      "state": {
       "layout": "IPY_MODEL_a615add66a8142c198b9a90abd7a922a",
       "style": "IPY_MODEL_a4d7a298a96b41f8b5f884755a1e38c9",
       "value": "<font style='color:#34BC6E'>DONE</font>"
      }
     },
     "d6013c90b1fc4364b46eb75d184e8bc6": {
      "model_module": "@jupyter-widgets/base",
      "model_module_version": "1.2.0",
      "model_name": "LayoutModel",
      "state": {
       "width": "190px"
      }
     },
     "d6977b2fa2ab46b5bca6be44e1c6f16f": {
      "model_module": "@jupyter-widgets/controls",
      "model_module_version": "1.5.0",
      "model_name": "DescriptionStyleModel",
      "state": {
       "description_width": ""
      }
     },
     "d69db70791224f69a51bdf0c09387475": {
      "model_module": "@jupyter-widgets/controls",
      "model_module_version": "1.5.0",
      "model_name": "DescriptionStyleModel",
      "state": {
       "description_width": ""
      }
     },
     "d6f99365535c4ae9a0c9f3824ba5feec": {
      "model_module": "@jupyter-widgets/controls",
      "model_module_version": "1.5.0",
      "model_name": "DescriptionStyleModel",
      "state": {
       "description_width": ""
      }
     },
     "d94ddb52ad7c49029def8d8a609eae46": {
      "model_module": "@jupyter-widgets/controls",
      "model_module_version": "1.5.0",
      "model_name": "DescriptionStyleModel",
      "state": {
       "description_width": ""
      }
     },
     "daa0fd4b0c704e92af4f8e3524067068": {
      "model_module": "@jupyter-widgets/base",
      "model_module_version": "1.2.0",
      "model_name": "LayoutModel",
      "state": {
       "width": "145px"
      }
     },
     "db132f2936984c8da99ccd42453185fb": {
      "model_module": "@jupyter-widgets/base",
      "model_module_version": "1.2.0",
      "model_name": "LayoutModel",
      "state": {
       "overflow_x": "scroll"
      }
     },
     "db45db6b20b441338a2f7c46acf02b79": {
      "model_module": "@jupyter-widgets/base",
      "model_module_version": "1.2.0",
      "model_name": "LayoutModel",
      "state": {
       "max_width": "700px",
       "min_width": "700px"
      }
     },
     "dc5509a5d1634753b6bb9f8542894ad1": {
      "model_module": "@jupyter-widgets/controls",
      "model_module_version": "1.5.0",
      "model_name": "DescriptionStyleModel",
      "state": {
       "description_width": ""
      }
     },
     "dc6371be76984a2f9a8b27e955b710dc": {
      "model_module": "@jupyter-widgets/controls",
      "model_module_version": "1.5.0",
      "model_name": "HTMLModel",
      "state": {
       "layout": "IPY_MODEL_6e975b81bc5747a9806ee34d962eee8f",
       "style": "IPY_MODEL_7f7c464c815847968047d9b69bd07ada",
       "value": "634abaa16c7c482aee6be5fe"
      }
     },
     "df73506eef644f1a905662a6ecde7c62": {
      "model_module": "@jupyter-widgets/controls",
      "model_module_version": "1.5.0",
      "model_name": "DescriptionStyleModel",
      "state": {
       "description_width": ""
      }
     },
     "e0abd618462c4c53a97ed42d082c06bc": {
      "model_module": "@jupyter-widgets/controls",
      "model_module_version": "1.5.0",
      "model_name": "ButtonModel",
      "state": {
       "icon": "close",
       "layout": "IPY_MODEL_0a83f749d454432690d0c3cd406ea0f3",
       "style": "IPY_MODEL_5bf22e7ed499409aac3003e04fdc395d"
      }
     },
     "e0be1406b08240058dc95d4c56b975f9": {
      "model_module": "@jupyter-widgets/controls",
      "model_module_version": "1.5.0",
      "model_name": "ButtonModel",
      "state": {
       "icon": "close",
       "layout": "IPY_MODEL_fb1c9d9c096945aabae0da14662e1861",
       "style": "IPY_MODEL_c28c9a8774a24bf8839676b5facf1105"
      }
     },
     "e12a3cdd3f754cd787f3d89ba2f73821": {
      "model_module": "@jupyter-widgets/controls",
      "model_module_version": "1.5.0",
      "model_name": "DescriptionStyleModel",
      "state": {
       "description_width": ""
      }
     },
     "e217f9c25ffd4d86b122bbbfb52d6026": {
      "model_module": "@jupyter-widgets/base",
      "model_module_version": "1.2.0",
      "model_name": "LayoutModel",
      "state": {
       "overflow_x": "scroll"
      }
     },
     "e2d2b37d838f4d6c8b31ef63c7b443fd": {
      "model_module": "@jupyter-widgets/controls",
      "model_module_version": "1.5.0",
      "model_name": "HTMLModel",
      "state": {
       "layout": "IPY_MODEL_9025b6599f5d4d9a97237c2d3c5a6cfc",
       "style": "IPY_MODEL_a88cf63df17f448489d6be6a017480a7",
       "value": "-"
      }
     },
     "e2f849e63655414c94fb78168094a414": {
      "model_module": "@jupyter-widgets/controls",
      "model_module_version": "1.5.0",
      "model_name": "ButtonModel",
      "state": {
       "icon": "close",
       "layout": "IPY_MODEL_27a2fa53360846f48141b380f672a31a",
       "style": "IPY_MODEL_2f43275659ed4197aacb77dc4b61301c"
      }
     },
     "e5b035cb80a342b48b96666c215e1937": {
      "model_module": "@jupyter-widgets/base",
      "model_module_version": "1.2.0",
      "model_name": "LayoutModel",
      "state": {
       "margin": "0px 5px 0px 0px",
       "width": "32px"
      }
     },
     "e68c13520c7d447c98e2da8f01f9e9e8": {
      "model_module": "@jupyter-widgets/controls",
      "model_module_version": "1.5.0",
      "model_name": "DescriptionStyleModel",
      "state": {
       "description_width": ""
      }
     },
     "e8fec07edb4643d39d7a63b467103903": {
      "model_module": "@jupyter-widgets/controls",
      "model_module_version": "1.5.0",
      "model_name": "ButtonStyleModel",
      "state": {
       "button_color": "white"
      }
     },
     "e941757a012b478fb1674d680d169a1c": {
      "model_module": "@jupyter-widgets/base",
      "model_module_version": "1.2.0",
      "model_name": "LayoutModel",
      "state": {
       "margin": "0px 5px 0px 0px",
       "width": "32px"
      }
     },
     "e963341d8611476a8965596f3145d4e5": {
      "model_module": "@jupyter-widgets/controls",
      "model_module_version": "1.5.0",
      "model_name": "HTMLModel",
      "state": {
       "layout": "IPY_MODEL_1a7258a6a2cb4310b8e498ab2505a28b",
       "style": "IPY_MODEL_50d7c8f376684f1abded6045f362a373",
       "value": "634ab87d0a4a0c75bcd02d7d"
      }
     },
     "ea35ddea8e7e49f3bdf365f4fae67f51": {
      "model_module": "@jupyter-widgets/controls",
      "model_module_version": "1.5.0",
      "model_name": "ButtonStyleModel",
      "state": {
       "button_color": "white"
      }
     },
     "eb0728fadafe4944affde868373e9f29": {
      "model_module": "@jupyter-widgets/controls",
      "model_module_version": "1.5.0",
      "model_name": "HBoxModel",
      "state": {
       "children": [
        "IPY_MODEL_e2f849e63655414c94fb78168094a414",
        "IPY_MODEL_1f2abcb30a144ff6aa941ee135838c0b",
        "IPY_MODEL_5d794001540b45b79a9ec73a8d4924c0",
        "IPY_MODEL_eb9f2445b6274bb1920d5aada50b40d0",
        "IPY_MODEL_7153835c2f994f57a4400a830f1a3892",
        "IPY_MODEL_2d9f1f3f3cb9436ca3725bb40be49639"
       ],
       "layout": "IPY_MODEL_6ee2ecb39be64378b56937a5daed603e"
      }
     },
     "eb9f2445b6274bb1920d5aada50b40d0": {
      "model_module": "@jupyter-widgets/controls",
      "model_module_version": "1.5.0",
      "model_name": "HTMLModel",
      "state": {
       "layout": "IPY_MODEL_8382e0436c014d11be67614b20fc8c39",
       "style": "IPY_MODEL_5c50122d3cf2469da1abcedff6715739",
       "value": "<font style='color:#DC267F'>ERROR</font>"
      }
     },
     "ebc51025ac2a482297cadf4af0945ead": {
      "model_module": "@jupyter-widgets/controls",
      "model_module_version": "1.5.0",
      "model_name": "HTMLModel",
      "state": {
       "layout": "IPY_MODEL_3ba2f8fcaf3f46ff8e0718e866f2a109",
       "style": "IPY_MODEL_8e0dfb428dc540e5b5edbb757675ce04",
       "value": "-"
      }
     },
     "ec39a83676254c6ba75598d07e42b0ad": {
      "model_module": "@jupyter-widgets/controls",
      "model_module_version": "1.5.0",
      "model_name": "HTMLModel",
      "state": {
       "layout": "IPY_MODEL_6fabc459499c43788ed0bd037c40d2cd",
       "style": "IPY_MODEL_1503ce9484cb4c06a678a3f15c62ee66",
       "value": "-"
      }
     },
     "eed45dd26a3f40e9ae3f530b5e4cd0dc": {
      "model_module": "@jupyter-widgets/controls",
      "model_module_version": "1.5.0",
      "model_name": "DescriptionStyleModel",
      "state": {
       "description_width": ""
      }
     },
     "efcb8b62288548fd88da5783f590c98a": {
      "model_module": "@jupyter-widgets/controls",
      "model_module_version": "1.5.0",
      "model_name": "HTMLModel",
      "state": {
       "layout": "IPY_MODEL_6fde172477d441d497278f399565af05",
       "style": "IPY_MODEL_bf63d8059b7345d3a3329c97ac7593bf",
       "value": "<font style='color:#34BC6E'>DONE</font>"
      }
     },
     "f007b9288a454bed93d0d2d57f210326": {
      "model_module": "@jupyter-widgets/controls",
      "model_module_version": "1.5.0",
      "model_name": "HTMLModel",
      "state": {
       "layout": "IPY_MODEL_b65f1a3d6ed84ccfbdd34e1c5d776a79",
       "style": "IPY_MODEL_d6f99365535c4ae9a0c9f3824ba5feec",
       "value": "ibm_perth"
      }
     },
     "f1d0327646354a6ab3c29c37e85c894b": {
      "model_module": "@jupyter-widgets/base",
      "model_module_version": "1.2.0",
      "model_name": "LayoutModel",
      "state": {
       "width": "190px"
      }
     },
     "f27233945e6f467cadc72d98816a325e": {
      "model_module": "@jupyter-widgets/controls",
      "model_module_version": "1.5.0",
      "model_name": "HTMLModel",
      "state": {
       "layout": "IPY_MODEL_12ed2c9f54b64ccba1cf59b711adcbc3",
       "style": "IPY_MODEL_b3d6839b8f4947e59ce6c7105a5a1f91",
       "value": "ibm_perth"
      }
     },
     "f43cdf6887254e89843735dcd2c136cf": {
      "model_module": "@jupyter-widgets/controls",
      "model_module_version": "1.5.0",
      "model_name": "DescriptionStyleModel",
      "state": {
       "description_width": ""
      }
     },
     "f4773f69956f403fb2ea5cefb671a2d4": {
      "model_module": "@jupyter-widgets/controls",
      "model_module_version": "1.5.0",
      "model_name": "HTMLModel",
      "state": {
       "layout": "IPY_MODEL_128e37977f5340fe97d1473683cbc43d",
       "style": "IPY_MODEL_b3eea2cb330543828d13895038ae0812",
       "value": "<h5>Status</h5>"
      }
     },
     "f50f1e39fb9b46cd9e85a99c028f9d41": {
      "model_module": "@jupyter-widgets/base",
      "model_module_version": "1.2.0",
      "model_name": "LayoutModel",
      "state": {
       "width": "70px"
      }
     },
     "f6e9d9f336814ce780fa24c71294d7b5": {
      "model_module": "@jupyter-widgets/base",
      "model_module_version": "1.2.0",
      "model_name": "LayoutModel",
      "state": {
       "width": "145px"
      }
     },
     "f8ae27b009e349ec8c27f7ed886b1229": {
      "model_module": "@jupyter-widgets/controls",
      "model_module_version": "1.5.0",
      "model_name": "DescriptionStyleModel",
      "state": {
       "description_width": ""
      }
     },
     "fb1c9d9c096945aabae0da14662e1861": {
      "model_module": "@jupyter-widgets/base",
      "model_module_version": "1.2.0",
      "model_name": "LayoutModel",
      "state": {
       "margin": "0px 5px 0px 0px",
       "width": "32px"
      }
     },
     "fb2b2f750d484baabb286d9e75a0980d": {
      "model_module": "@jupyter-widgets/controls",
      "model_module_version": "1.5.0",
      "model_name": "ButtonStyleModel",
      "state": {
       "button_color": "white"
      }
     },
     "fcc85db1cb9149ea89ff3c4f2d275ca4": {
      "model_module": "@jupyter-widgets/controls",
      "model_module_version": "1.5.0",
      "model_name": "GridBoxModel",
      "state": {
       "children": [
        "IPY_MODEL_24f5b034591440b9b465cf793053dc8e"
       ],
       "layout": "IPY_MODEL_7d2223c6cc394c87a0c79955f2be6cd1"
      }
     },
     "fdb9af2404e7474e9cd783d51adce7f6": {
      "model_module": "@jupyter-widgets/controls",
      "model_module_version": "1.5.0",
      "model_name": "HTMLModel",
      "state": {
       "layout": "IPY_MODEL_0971cc97279547c8aa3a78357f1b8bbc",
       "style": "IPY_MODEL_08222c5101fe46069cfacc7e55442076",
       "value": "634ad1a74eaf8b572a0c710f"
      }
     },
     "ff252316cbaf4a139415fb20b9a12274": {
      "model_module": "@jupyter-widgets/controls",
      "model_module_version": "1.5.0",
      "model_name": "DescriptionStyleModel",
      "state": {
       "description_width": ""
      }
     }
    },
    "version_major": 2,
    "version_minor": 0
   }
  }
 },
 "nbformat": 4,
 "nbformat_minor": 5
}
